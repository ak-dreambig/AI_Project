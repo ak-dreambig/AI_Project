{
 "cells": [
  {
   "cell_type": "markdown",
   "metadata": {
    "papermill": {
     "duration": 0.080874,
     "end_time": "2022-04-11T08:55:18.726656",
     "exception": false,
     "start_time": "2022-04-11T08:55:18.645782",
     "status": "completed"
    },
    "tags": []
   },
   "source": [
    "This is the second version of my public kernel(Intrusion Detection System). ANN is also trained & tested on the dataset in this version.\n",
    "I would really appreciate your feedback."
   ]
  },
  {
   "cell_type": "code",
   "execution_count": 1,
   "metadata": {
    "execution": {
     "iopub.execute_input": "2022-04-11T08:55:18.893268Z",
     "iopub.status.busy": "2022-04-11T08:55:18.892614Z",
     "iopub.status.idle": "2022-04-11T08:55:19.507683Z",
     "shell.execute_reply": "2022-04-11T08:55:19.506619Z",
     "shell.execute_reply.started": "2022-04-11T08:18:22.023890Z"
    },
    "papermill": {
     "duration": 0.701597,
     "end_time": "2022-04-11T08:55:19.507802",
     "exception": false,
     "start_time": "2022-04-11T08:55:18.806205",
     "status": "completed"
    },
    "scrolled": true,
    "tags": []
   },
   "outputs": [],
   "source": [
    "import os\n",
    "import pandas as pd\n",
    "import numpy as np\n",
    "import matplotlib.pyplot as plt\n",
    "import seaborn as sns\n",
    "import time"
   ]
  },
  {
   "cell_type": "code",
   "execution_count": 2,
   "metadata": {
    "execution": {
     "iopub.execute_input": "2022-04-11T08:55:19.670603Z",
     "iopub.status.busy": "2022-04-11T08:55:19.670055Z",
     "iopub.status.idle": "2022-04-11T08:55:19.681258Z",
     "shell.execute_reply": "2022-04-11T08:55:19.681665Z",
     "shell.execute_reply.started": "2022-04-11T08:18:22.707441Z"
    },
    "papermill": {
     "duration": 0.094216,
     "end_time": "2022-04-11T08:55:19.681789",
     "exception": false,
     "start_time": "2022-04-11T08:55:19.587573",
     "status": "completed"
    },
    "scrolled": true,
    "tags": []
   },
   "outputs": [
    {
     "ename": "FileNotFoundError",
     "evalue": "[WinError 3] The system cannot find the path specified: '../input/kdd-cup-1999-data'",
     "output_type": "error",
     "traceback": [
      "\u001b[1;31m---------------------------------------------------------------------------\u001b[0m",
      "\u001b[1;31mFileNotFoundError\u001b[0m                         Traceback (most recent call last)",
      "\u001b[1;32m~\\AppData\\Local\\Temp\\ipykernel_1672\\232154146.py\u001b[0m in \u001b[0;36m<module>\u001b[1;34m\u001b[0m\n\u001b[1;32m----> 1\u001b[1;33m \u001b[0mprint\u001b[0m\u001b[1;33m(\u001b[0m\u001b[0mos\u001b[0m\u001b[1;33m.\u001b[0m\u001b[0mlistdir\u001b[0m\u001b[1;33m(\u001b[0m\u001b[1;34m'../input/kdd-cup-1999-data'\u001b[0m\u001b[1;33m)\u001b[0m\u001b[1;33m)\u001b[0m\u001b[1;33m\u001b[0m\u001b[1;33m\u001b[0m\u001b[0m\n\u001b[0m",
      "\u001b[1;31mFileNotFoundError\u001b[0m: [WinError 3] The system cannot find the path specified: '../input/kdd-cup-1999-data'"
     ]
    }
   ],
   "source": [
    "print(os.listdir('../input/kdd-cup-1999-data'))"
   ]
  },
  {
   "cell_type": "code",
   "execution_count": 3,
   "metadata": {
    "execution": {
     "iopub.execute_input": "2022-04-11T08:55:19.875940Z",
     "iopub.status.busy": "2022-04-11T08:55:19.872985Z",
     "iopub.status.idle": "2022-04-11T08:55:19.892257Z",
     "shell.execute_reply": "2022-04-11T08:55:19.892974Z",
     "shell.execute_reply.started": "2022-04-11T08:18:22.722405Z"
    },
    "papermill": {
     "duration": 0.131173,
     "end_time": "2022-04-11T08:55:19.893144",
     "exception": false,
     "start_time": "2022-04-11T08:55:19.761971",
     "status": "completed"
    },
    "tags": []
   },
   "outputs": [
    {
     "name": "stdout",
     "output_type": "stream",
     "text": [
      "back,buffer_overflow,ftp_write,guess_passwd,imap,ipsweep,land,loadmodule,multihop,neptune,nmap,normal,perl,phf,pod,portsweep,rootkit,satan,smurf,spy,teardrop,warezclient,warezmaster.\n",
      "duration: continuous.\n",
      "protocol_type: symbolic.\n",
      "service: symbolic.\n",
      "flag: symbolic.\n",
      "src_bytes: continuous.\n",
      "dst_bytes: continuous.\n",
      "land: symbolic.\n",
      "wrong_fragment: continuous.\n",
      "urgent: continuous.\n",
      "hot: continuous.\n",
      "num_failed_logins: continuous.\n",
      "logged_in: symbolic.\n",
      "num_compromised: continuous.\n",
      "root_shell: continuous.\n",
      "su_attempted: continuous.\n",
      "num_root: continuous.\n",
      "num_file_creations: continuous.\n",
      "num_shells: continuous.\n",
      "num_access_files: continuous.\n",
      "num_outbound_cmds: continuous.\n",
      "is_host_login: symbolic.\n",
      "is_guest_login: symbolic.\n",
      "count: continuous.\n",
      "srv_count: continuous.\n",
      "serror_rate: continuous.\n",
      "srv_serror_rate: continuous.\n",
      "rerror_rate: continuous.\n",
      "srv_rerror_rate: continuous.\n",
      "same_srv_rate: continuous.\n",
      "diff_srv_rate: continuous.\n",
      "srv_diff_host_rate: continuous.\n",
      "dst_host_count: continuous.\n",
      "dst_host_srv_count: continuous.\n",
      "dst_host_same_srv_rate: continuous.\n",
      "dst_host_diff_srv_rate: continuous.\n",
      "dst_host_same_src_port_rate: continuous.\n",
      "dst_host_srv_diff_host_rate: continuous.\n",
      "dst_host_serror_rate: continuous.\n",
      "dst_host_srv_serror_rate: continuous.\n",
      "dst_host_rerror_rate: continuous.\n",
      "dst_host_srv_rerror_rate: continuous.\n",
      "\n"
     ]
    }
   ],
   "source": [
    "with open(\"../input/kdd-cup-1999-data/kddcup.names\",'r') as f:\n",
    "    print(f.read())"
   ]
  },
  {
   "cell_type": "code",
   "execution_count": 4,
   "metadata": {
    "execution": {
     "iopub.execute_input": "2022-04-11T08:55:20.205747Z",
     "iopub.status.busy": "2022-04-11T08:55:20.204929Z",
     "iopub.status.idle": "2022-04-11T08:55:20.213063Z",
     "shell.execute_reply": "2022-04-11T08:55:20.213881Z",
     "shell.execute_reply.started": "2022-04-11T08:18:22.735456Z"
    },
    "papermill": {
     "duration": 0.158298,
     "end_time": "2022-04-11T08:55:20.214043",
     "exception": false,
     "start_time": "2022-04-11T08:55:20.055745",
     "status": "completed"
    },
    "tags": []
   },
   "outputs": [
    {
     "name": "stdout",
     "output_type": "stream",
     "text": [
      "42\n"
     ]
    }
   ],
   "source": [
    "cols=\"\"\"duration,\n",
    "protocol_type,\n",
    "service,\n",
    "flag,\n",
    "src_bytes,\n",
    "dst_bytes,\n",
    "land,\n",
    "wrong_fragment,\n",
    "urgent,\n",
    "hot,\n",
    "num_failed_logins,\n",
    "logged_in,\n",
    "num_compromised,\n",
    "root_shell,\n",
    "su_attempted,\n",
    "num_root,\n",
    "num_file_creations,\n",
    "num_shells,\n",
    "num_access_files,\n",
    "num_outbound_cmds,\n",
    "is_host_login,\n",
    "is_guest_login,\n",
    "count,\n",
    "srv_count,\n",
    "serror_rate,\n",
    "srv_serror_rate,\n",
    "rerror_rate,\n",
    "srv_rerror_rate,\n",
    "same_srv_rate,\n",
    "diff_srv_rate,\n",
    "srv_diff_host_rate,\n",
    "dst_host_count,\n",
    "dst_host_srv_count,\n",
    "dst_host_same_srv_rate,\n",
    "dst_host_diff_srv_rate,\n",
    "dst_host_same_src_port_rate,\n",
    "dst_host_srv_diff_host_rate,\n",
    "dst_host_serror_rate,\n",
    "dst_host_srv_serror_rate,\n",
    "dst_host_rerror_rate,\n",
    "dst_host_srv_rerror_rate\"\"\"\n",
    "\n",
    "columns=[]\n",
    "for c in cols.split(','):\n",
    "    if(c.strip()):\n",
    "       columns.append(c.strip())\n",
    "\n",
    "columns.append('target')\n",
    "#print(columns)\n",
    "print(len(columns))"
   ]
  },
  {
   "cell_type": "code",
   "execution_count": 5,
   "metadata": {
    "execution": {
     "iopub.execute_input": "2022-04-11T08:55:20.466478Z",
     "iopub.status.busy": "2022-04-11T08:55:20.465906Z",
     "iopub.status.idle": "2022-04-11T08:55:20.473954Z",
     "shell.execute_reply": "2022-04-11T08:55:20.474561Z",
     "shell.execute_reply.started": "2022-04-11T08:18:22.750875Z"
    },
    "papermill": {
     "duration": 0.123246,
     "end_time": "2022-04-11T08:55:20.474709",
     "exception": false,
     "start_time": "2022-04-11T08:55:20.351463",
     "status": "completed"
    },
    "tags": []
   },
   "outputs": [
    {
     "name": "stdout",
     "output_type": "stream",
     "text": [
      "back dos\n",
      "buffer_overflow u2r\n",
      "ftp_write r2l\n",
      "guess_passwd r2l\n",
      "imap r2l\n",
      "ipsweep probe\n",
      "land dos\n",
      "loadmodule u2r\n",
      "multihop r2l\n",
      "neptune dos\n",
      "nmap probe\n",
      "perl u2r\n",
      "phf r2l\n",
      "pod dos\n",
      "portsweep probe\n",
      "rootkit u2r\n",
      "satan probe\n",
      "smurf dos\n",
      "spy r2l\n",
      "teardrop dos\n",
      "warezclient r2l\n",
      "warezmaster r2l\n",
      "\n",
      "\n"
     ]
    }
   ],
   "source": [
    "with open(\"../input/kdd-cup-1999-data/training_attack_types\",'r') as f:\n",
    "    print(f.read())"
   ]
  },
  {
   "cell_type": "code",
   "execution_count": 6,
   "metadata": {
    "execution": {
     "iopub.execute_input": "2022-04-11T08:55:20.645116Z",
     "iopub.status.busy": "2022-04-11T08:55:20.644410Z",
     "iopub.status.idle": "2022-04-11T08:55:20.647320Z",
     "shell.execute_reply": "2022-04-11T08:55:20.646883Z",
     "shell.execute_reply.started": "2022-04-11T08:18:22.764087Z"
    },
    "papermill": {
     "duration": 0.090323,
     "end_time": "2022-04-11T08:55:20.647437",
     "exception": false,
     "start_time": "2022-04-11T08:55:20.557114",
     "status": "completed"
    },
    "tags": []
   },
   "outputs": [],
   "source": [
    "attacks_types = {\n",
    "    'normal': 'normal',\n",
    "'back': 'dos',\n",
    "'buffer_overflow': 'u2r',\n",
    "'ftp_write': 'r2l',\n",
    "'guess_passwd': 'r2l',\n",
    "'imap': 'r2l',\n",
    "'ipsweep': 'probe',\n",
    "'land': 'dos',\n",
    "'loadmodule': 'u2r',\n",
    "'multihop': 'r2l',\n",
    "'neptune': 'dos',\n",
    "'nmap': 'probe',\n",
    "'perl': 'u2r',\n",
    "'phf': 'r2l',\n",
    "'pod': 'dos',\n",
    "'portsweep': 'probe',\n",
    "'rootkit': 'u2r',\n",
    "'satan': 'probe',\n",
    "'smurf': 'dos',\n",
    "'spy': 'r2l',\n",
    "'teardrop': 'dos',\n",
    "'warezclient': 'r2l',\n",
    "'warezmaster': 'r2l',\n",
    "}\n"
   ]
  },
  {
   "cell_type": "markdown",
   "metadata": {
    "papermill": {
     "duration": 0.080602,
     "end_time": "2022-04-11T08:55:20.809246",
     "exception": false,
     "start_time": "2022-04-11T08:55:20.728644",
     "status": "completed"
    },
    "tags": []
   },
   "source": [
    "READING DATASET"
   ]
  },
  {
   "cell_type": "code",
   "execution_count": 7,
   "metadata": {
    "execution": {
     "iopub.execute_input": "2022-04-11T08:55:20.977242Z",
     "iopub.status.busy": "2022-04-11T08:55:20.976519Z",
     "iopub.status.idle": "2022-04-11T08:55:22.856691Z",
     "shell.execute_reply": "2022-04-11T08:55:22.856054Z",
     "shell.execute_reply.started": "2022-04-11T08:18:22.779411Z"
    },
    "papermill": {
     "duration": 1.966525,
     "end_time": "2022-04-11T08:55:22.856838",
     "exception": false,
     "start_time": "2022-04-11T08:55:20.890313",
     "status": "completed"
    },
    "tags": []
   },
   "outputs": [
    {
     "data": {
      "text/html": [
       "<div>\n",
       "<style scoped>\n",
       "    .dataframe tbody tr th:only-of-type {\n",
       "        vertical-align: middle;\n",
       "    }\n",
       "\n",
       "    .dataframe tbody tr th {\n",
       "        vertical-align: top;\n",
       "    }\n",
       "\n",
       "    .dataframe thead th {\n",
       "        text-align: right;\n",
       "    }\n",
       "</style>\n",
       "<table border=\"1\" class=\"dataframe\">\n",
       "  <thead>\n",
       "    <tr style=\"text-align: right;\">\n",
       "      <th></th>\n",
       "      <th>duration</th>\n",
       "      <th>protocol_type</th>\n",
       "      <th>service</th>\n",
       "      <th>flag</th>\n",
       "      <th>src_bytes</th>\n",
       "      <th>dst_bytes</th>\n",
       "      <th>land</th>\n",
       "      <th>wrong_fragment</th>\n",
       "      <th>urgent</th>\n",
       "      <th>hot</th>\n",
       "      <th>...</th>\n",
       "      <th>dst_host_same_srv_rate</th>\n",
       "      <th>dst_host_diff_srv_rate</th>\n",
       "      <th>dst_host_same_src_port_rate</th>\n",
       "      <th>dst_host_srv_diff_host_rate</th>\n",
       "      <th>dst_host_serror_rate</th>\n",
       "      <th>dst_host_srv_serror_rate</th>\n",
       "      <th>dst_host_rerror_rate</th>\n",
       "      <th>dst_host_srv_rerror_rate</th>\n",
       "      <th>target</th>\n",
       "      <th>Attack Type</th>\n",
       "    </tr>\n",
       "  </thead>\n",
       "  <tbody>\n",
       "    <tr>\n",
       "      <th>0</th>\n",
       "      <td>0</td>\n",
       "      <td>tcp</td>\n",
       "      <td>http</td>\n",
       "      <td>SF</td>\n",
       "      <td>181</td>\n",
       "      <td>5450</td>\n",
       "      <td>0</td>\n",
       "      <td>0</td>\n",
       "      <td>0</td>\n",
       "      <td>0</td>\n",
       "      <td>...</td>\n",
       "      <td>1.0</td>\n",
       "      <td>0.0</td>\n",
       "      <td>0.11</td>\n",
       "      <td>0.0</td>\n",
       "      <td>0.0</td>\n",
       "      <td>0.0</td>\n",
       "      <td>0.0</td>\n",
       "      <td>0.0</td>\n",
       "      <td>normal.</td>\n",
       "      <td>normal</td>\n",
       "    </tr>\n",
       "    <tr>\n",
       "      <th>1</th>\n",
       "      <td>0</td>\n",
       "      <td>tcp</td>\n",
       "      <td>http</td>\n",
       "      <td>SF</td>\n",
       "      <td>239</td>\n",
       "      <td>486</td>\n",
       "      <td>0</td>\n",
       "      <td>0</td>\n",
       "      <td>0</td>\n",
       "      <td>0</td>\n",
       "      <td>...</td>\n",
       "      <td>1.0</td>\n",
       "      <td>0.0</td>\n",
       "      <td>0.05</td>\n",
       "      <td>0.0</td>\n",
       "      <td>0.0</td>\n",
       "      <td>0.0</td>\n",
       "      <td>0.0</td>\n",
       "      <td>0.0</td>\n",
       "      <td>normal.</td>\n",
       "      <td>normal</td>\n",
       "    </tr>\n",
       "    <tr>\n",
       "      <th>2</th>\n",
       "      <td>0</td>\n",
       "      <td>tcp</td>\n",
       "      <td>http</td>\n",
       "      <td>SF</td>\n",
       "      <td>235</td>\n",
       "      <td>1337</td>\n",
       "      <td>0</td>\n",
       "      <td>0</td>\n",
       "      <td>0</td>\n",
       "      <td>0</td>\n",
       "      <td>...</td>\n",
       "      <td>1.0</td>\n",
       "      <td>0.0</td>\n",
       "      <td>0.03</td>\n",
       "      <td>0.0</td>\n",
       "      <td>0.0</td>\n",
       "      <td>0.0</td>\n",
       "      <td>0.0</td>\n",
       "      <td>0.0</td>\n",
       "      <td>normal.</td>\n",
       "      <td>normal</td>\n",
       "    </tr>\n",
       "    <tr>\n",
       "      <th>3</th>\n",
       "      <td>0</td>\n",
       "      <td>tcp</td>\n",
       "      <td>http</td>\n",
       "      <td>SF</td>\n",
       "      <td>219</td>\n",
       "      <td>1337</td>\n",
       "      <td>0</td>\n",
       "      <td>0</td>\n",
       "      <td>0</td>\n",
       "      <td>0</td>\n",
       "      <td>...</td>\n",
       "      <td>1.0</td>\n",
       "      <td>0.0</td>\n",
       "      <td>0.03</td>\n",
       "      <td>0.0</td>\n",
       "      <td>0.0</td>\n",
       "      <td>0.0</td>\n",
       "      <td>0.0</td>\n",
       "      <td>0.0</td>\n",
       "      <td>normal.</td>\n",
       "      <td>normal</td>\n",
       "    </tr>\n",
       "    <tr>\n",
       "      <th>4</th>\n",
       "      <td>0</td>\n",
       "      <td>tcp</td>\n",
       "      <td>http</td>\n",
       "      <td>SF</td>\n",
       "      <td>217</td>\n",
       "      <td>2032</td>\n",
       "      <td>0</td>\n",
       "      <td>0</td>\n",
       "      <td>0</td>\n",
       "      <td>0</td>\n",
       "      <td>...</td>\n",
       "      <td>1.0</td>\n",
       "      <td>0.0</td>\n",
       "      <td>0.02</td>\n",
       "      <td>0.0</td>\n",
       "      <td>0.0</td>\n",
       "      <td>0.0</td>\n",
       "      <td>0.0</td>\n",
       "      <td>0.0</td>\n",
       "      <td>normal.</td>\n",
       "      <td>normal</td>\n",
       "    </tr>\n",
       "  </tbody>\n",
       "</table>\n",
       "<p>5 rows × 43 columns</p>\n",
       "</div>"
      ],
      "text/plain": [
       "   duration protocol_type service flag  src_bytes  dst_bytes  land  \\\n",
       "0         0           tcp    http   SF        181       5450     0   \n",
       "1         0           tcp    http   SF        239        486     0   \n",
       "2         0           tcp    http   SF        235       1337     0   \n",
       "3         0           tcp    http   SF        219       1337     0   \n",
       "4         0           tcp    http   SF        217       2032     0   \n",
       "\n",
       "   wrong_fragment  urgent  hot  ...  dst_host_same_srv_rate  \\\n",
       "0               0       0    0  ...                     1.0   \n",
       "1               0       0    0  ...                     1.0   \n",
       "2               0       0    0  ...                     1.0   \n",
       "3               0       0    0  ...                     1.0   \n",
       "4               0       0    0  ...                     1.0   \n",
       "\n",
       "   dst_host_diff_srv_rate  dst_host_same_src_port_rate  \\\n",
       "0                     0.0                         0.11   \n",
       "1                     0.0                         0.05   \n",
       "2                     0.0                         0.03   \n",
       "3                     0.0                         0.03   \n",
       "4                     0.0                         0.02   \n",
       "\n",
       "   dst_host_srv_diff_host_rate  dst_host_serror_rate  \\\n",
       "0                          0.0                   0.0   \n",
       "1                          0.0                   0.0   \n",
       "2                          0.0                   0.0   \n",
       "3                          0.0                   0.0   \n",
       "4                          0.0                   0.0   \n",
       "\n",
       "   dst_host_srv_serror_rate  dst_host_rerror_rate  dst_host_srv_rerror_rate  \\\n",
       "0                       0.0                   0.0                       0.0   \n",
       "1                       0.0                   0.0                       0.0   \n",
       "2                       0.0                   0.0                       0.0   \n",
       "3                       0.0                   0.0                       0.0   \n",
       "4                       0.0                   0.0                       0.0   \n",
       "\n",
       "    target  Attack Type  \n",
       "0  normal.       normal  \n",
       "1  normal.       normal  \n",
       "2  normal.       normal  \n",
       "3  normal.       normal  \n",
       "4  normal.       normal  \n",
       "\n",
       "[5 rows x 43 columns]"
      ]
     },
     "execution_count": 7,
     "metadata": {},
     "output_type": "execute_result"
    }
   ],
   "source": [
    "path = \"../input/kdd-cup-1999-data/kddcup.data_10_percent.gz\"\n",
    "df = pd.read_csv(path,names=columns)\n",
    "\n",
    "#Adding Attack Type column\n",
    "df['Attack Type'] = df.target.apply(lambda r:attacks_types[r[:-1]])\n",
    "\n",
    "df.head()"
   ]
  },
  {
   "cell_type": "code",
   "execution_count": 8,
   "metadata": {
    "execution": {
     "iopub.execute_input": "2022-04-11T08:55:23.026933Z",
     "iopub.status.busy": "2022-04-11T08:55:23.026112Z",
     "iopub.status.idle": "2022-04-11T08:55:23.029650Z",
     "shell.execute_reply": "2022-04-11T08:55:23.030050Z",
     "shell.execute_reply.started": "2022-04-11T08:18:24.733980Z"
    },
    "papermill": {
     "duration": 0.090456,
     "end_time": "2022-04-11T08:55:23.030167",
     "exception": false,
     "start_time": "2022-04-11T08:55:22.939711",
     "status": "completed"
    },
    "tags": []
   },
   "outputs": [
    {
     "data": {
      "text/plain": [
       "(494021, 43)"
      ]
     },
     "execution_count": 8,
     "metadata": {},
     "output_type": "execute_result"
    }
   ],
   "source": [
    "df.shape"
   ]
  },
  {
   "cell_type": "code",
   "execution_count": 9,
   "metadata": {
    "execution": {
     "iopub.execute_input": "2022-04-11T08:55:23.325729Z",
     "iopub.status.busy": "2022-04-11T08:55:23.321668Z",
     "iopub.status.idle": "2022-04-11T08:55:23.328772Z",
     "shell.execute_reply": "2022-04-11T08:55:23.329203Z",
     "shell.execute_reply.started": "2022-04-11T08:18:24.743503Z"
    },
    "papermill": {
     "duration": 0.210391,
     "end_time": "2022-04-11T08:55:23.329313",
     "exception": false,
     "start_time": "2022-04-11T08:55:23.118922",
     "status": "completed"
    },
    "tags": []
   },
   "outputs": [
    {
     "data": {
      "text/plain": [
       "smurf.              280790\n",
       "neptune.            107201\n",
       "normal.              97278\n",
       "back.                 2203\n",
       "satan.                1589\n",
       "ipsweep.              1247\n",
       "portsweep.            1040\n",
       "warezclient.          1020\n",
       "teardrop.              979\n",
       "pod.                   264\n",
       "nmap.                  231\n",
       "guess_passwd.           53\n",
       "buffer_overflow.        30\n",
       "land.                   21\n",
       "warezmaster.            20\n",
       "imap.                   12\n",
       "rootkit.                10\n",
       "loadmodule.              9\n",
       "ftp_write.               8\n",
       "multihop.                7\n",
       "phf.                     4\n",
       "perl.                    3\n",
       "spy.                     2\n",
       "Name: target, dtype: int64"
      ]
     },
     "execution_count": 9,
     "metadata": {},
     "output_type": "execute_result"
    }
   ],
   "source": [
    "df['target'].value_counts()"
   ]
  },
  {
   "cell_type": "code",
   "execution_count": 10,
   "metadata": {
    "execution": {
     "iopub.execute_input": "2022-04-11T08:55:23.594115Z",
     "iopub.status.busy": "2022-04-11T08:55:23.593279Z",
     "iopub.status.idle": "2022-04-11T08:55:23.599419Z",
     "shell.execute_reply": "2022-04-11T08:55:23.598982Z",
     "shell.execute_reply.started": "2022-04-11T08:18:24.861018Z"
    },
    "papermill": {
     "duration": 0.185387,
     "end_time": "2022-04-11T08:55:23.599517",
     "exception": false,
     "start_time": "2022-04-11T08:55:23.414130",
     "status": "completed"
    },
    "tags": []
   },
   "outputs": [
    {
     "data": {
      "text/plain": [
       "dos       391458\n",
       "normal     97278\n",
       "probe       4107\n",
       "r2l         1126\n",
       "u2r           52\n",
       "Name: Attack Type, dtype: int64"
      ]
     },
     "execution_count": 10,
     "metadata": {},
     "output_type": "execute_result"
    }
   ],
   "source": [
    "df['Attack Type'].value_counts()"
   ]
  },
  {
   "cell_type": "code",
   "execution_count": 11,
   "metadata": {
    "execution": {
     "iopub.execute_input": "2022-04-11T08:55:23.773012Z",
     "iopub.status.busy": "2022-04-11T08:55:23.772080Z",
     "iopub.status.idle": "2022-04-11T08:55:23.776007Z",
     "shell.execute_reply": "2022-04-11T08:55:23.776442Z",
     "shell.execute_reply.started": "2022-04-11T08:18:24.968808Z"
    },
    "papermill": {
     "duration": 0.094152,
     "end_time": "2022-04-11T08:55:23.776565",
     "exception": false,
     "start_time": "2022-04-11T08:55:23.682413",
     "status": "completed"
    },
    "tags": []
   },
   "outputs": [
    {
     "data": {
      "text/plain": [
       "duration                         int64\n",
       "protocol_type                   object\n",
       "service                         object\n",
       "flag                            object\n",
       "src_bytes                        int64\n",
       "dst_bytes                        int64\n",
       "land                             int64\n",
       "wrong_fragment                   int64\n",
       "urgent                           int64\n",
       "hot                              int64\n",
       "num_failed_logins                int64\n",
       "logged_in                        int64\n",
       "num_compromised                  int64\n",
       "root_shell                       int64\n",
       "su_attempted                     int64\n",
       "num_root                         int64\n",
       "num_file_creations               int64\n",
       "num_shells                       int64\n",
       "num_access_files                 int64\n",
       "num_outbound_cmds                int64\n",
       "is_host_login                    int64\n",
       "is_guest_login                   int64\n",
       "count                            int64\n",
       "srv_count                        int64\n",
       "serror_rate                    float64\n",
       "srv_serror_rate                float64\n",
       "rerror_rate                    float64\n",
       "srv_rerror_rate                float64\n",
       "same_srv_rate                  float64\n",
       "diff_srv_rate                  float64\n",
       "srv_diff_host_rate             float64\n",
       "dst_host_count                   int64\n",
       "dst_host_srv_count               int64\n",
       "dst_host_same_srv_rate         float64\n",
       "dst_host_diff_srv_rate         float64\n",
       "dst_host_same_src_port_rate    float64\n",
       "dst_host_srv_diff_host_rate    float64\n",
       "dst_host_serror_rate           float64\n",
       "dst_host_srv_serror_rate       float64\n",
       "dst_host_rerror_rate           float64\n",
       "dst_host_srv_rerror_rate       float64\n",
       "target                          object\n",
       "Attack Type                     object\n",
       "dtype: object"
      ]
     },
     "execution_count": 11,
     "metadata": {},
     "output_type": "execute_result"
    }
   ],
   "source": [
    "df.dtypes"
   ]
  },
  {
   "cell_type": "markdown",
   "metadata": {
    "papermill": {
     "duration": 0.082728,
     "end_time": "2022-04-11T08:55:23.942631",
     "exception": false,
     "start_time": "2022-04-11T08:55:23.859903",
     "status": "completed"
    },
    "tags": []
   },
   "source": [
    "DATA PREPROCESSING"
   ]
  },
  {
   "cell_type": "code",
   "execution_count": 12,
   "metadata": {
    "execution": {
     "iopub.execute_input": "2022-04-11T08:55:24.126571Z",
     "iopub.status.busy": "2022-04-11T08:55:24.125329Z",
     "iopub.status.idle": "2022-04-11T08:55:24.509938Z",
     "shell.execute_reply": "2022-04-11T08:55:24.511079Z",
     "shell.execute_reply.started": "2022-04-11T08:18:24.980798Z"
    },
    "papermill": {
     "duration": 0.485035,
     "end_time": "2022-04-11T08:55:24.511261",
     "exception": false,
     "start_time": "2022-04-11T08:55:24.026226",
     "status": "completed"
    },
    "tags": []
   },
   "outputs": [
    {
     "data": {
      "text/plain": [
       "duration                       0\n",
       "protocol_type                  0\n",
       "service                        0\n",
       "flag                           0\n",
       "src_bytes                      0\n",
       "dst_bytes                      0\n",
       "land                           0\n",
       "wrong_fragment                 0\n",
       "urgent                         0\n",
       "hot                            0\n",
       "num_failed_logins              0\n",
       "logged_in                      0\n",
       "num_compromised                0\n",
       "root_shell                     0\n",
       "su_attempted                   0\n",
       "num_root                       0\n",
       "num_file_creations             0\n",
       "num_shells                     0\n",
       "num_access_files               0\n",
       "num_outbound_cmds              0\n",
       "is_host_login                  0\n",
       "is_guest_login                 0\n",
       "count                          0\n",
       "srv_count                      0\n",
       "serror_rate                    0\n",
       "srv_serror_rate                0\n",
       "rerror_rate                    0\n",
       "srv_rerror_rate                0\n",
       "same_srv_rate                  0\n",
       "diff_srv_rate                  0\n",
       "srv_diff_host_rate             0\n",
       "dst_host_count                 0\n",
       "dst_host_srv_count             0\n",
       "dst_host_same_srv_rate         0\n",
       "dst_host_diff_srv_rate         0\n",
       "dst_host_same_src_port_rate    0\n",
       "dst_host_srv_diff_host_rate    0\n",
       "dst_host_serror_rate           0\n",
       "dst_host_srv_serror_rate       0\n",
       "dst_host_rerror_rate           0\n",
       "dst_host_srv_rerror_rate       0\n",
       "target                         0\n",
       "Attack Type                    0\n",
       "dtype: int64"
      ]
     },
     "execution_count": 12,
     "metadata": {},
     "output_type": "execute_result"
    }
   ],
   "source": [
    "df.isnull().sum()"
   ]
  },
  {
   "cell_type": "code",
   "execution_count": 13,
   "metadata": {
    "execution": {
     "iopub.execute_input": "2022-04-11T08:55:24.804129Z",
     "iopub.status.busy": "2022-04-11T08:55:24.803257Z",
     "iopub.status.idle": "2022-04-11T08:55:24.809741Z",
     "shell.execute_reply": "2022-04-11T08:55:24.810326Z",
     "shell.execute_reply.started": "2022-04-11T08:18:25.350552Z"
    },
    "papermill": {
     "duration": 0.161555,
     "end_time": "2022-04-11T08:55:24.810505",
     "exception": false,
     "start_time": "2022-04-11T08:55:24.648950",
     "status": "completed"
    },
    "tags": []
   },
   "outputs": [
    {
     "data": {
      "text/plain": [
       "['flag', 'service', 'protocol_type']"
      ]
     },
     "execution_count": 13,
     "metadata": {},
     "output_type": "execute_result"
    }
   ],
   "source": [
    "#Finding categorical features\n",
    "num_cols = df._get_numeric_data().columns\n",
    "\n",
    "cate_cols = list(set(df.columns)-set(num_cols))\n",
    "cate_cols.remove('target')\n",
    "cate_cols.remove('Attack Type')\n",
    "\n",
    "cate_cols"
   ]
  },
  {
   "cell_type": "markdown",
   "metadata": {
    "papermill": {
     "duration": 0.188778,
     "end_time": "2022-04-11T08:55:25.139001",
     "exception": false,
     "start_time": "2022-04-11T08:55:24.950223",
     "status": "completed"
    },
    "tags": []
   },
   "source": [
    "CATEGORICAL FEATURES DISTRIBUTION"
   ]
  },
  {
   "cell_type": "code",
   "execution_count": 14,
   "metadata": {
    "execution": {
     "iopub.execute_input": "2022-04-11T08:55:25.411108Z",
     "iopub.status.busy": "2022-04-11T08:55:25.410240Z",
     "iopub.status.idle": "2022-04-11T08:55:25.412327Z",
     "shell.execute_reply": "2022-04-11T08:55:25.412733Z",
     "shell.execute_reply.started": "2022-04-11T08:18:25.370964Z"
    },
    "papermill": {
     "duration": 0.13265,
     "end_time": "2022-04-11T08:55:25.412848",
     "exception": false,
     "start_time": "2022-04-11T08:55:25.280198",
     "status": "completed"
    },
    "tags": []
   },
   "outputs": [],
   "source": [
    "#Visualization\n",
    "def bar_graph(feature):\n",
    "    df[feature].value_counts().plot(kind=\"bar\")"
   ]
  },
  {
   "cell_type": "code",
   "execution_count": 15,
   "metadata": {
    "execution": {
     "iopub.execute_input": "2022-04-11T08:55:25.688723Z",
     "iopub.status.busy": "2022-04-11T08:55:25.687933Z",
     "iopub.status.idle": "2022-04-11T08:55:25.830965Z",
     "shell.execute_reply": "2022-04-11T08:55:25.830000Z",
     "shell.execute_reply.started": "2022-04-11T08:18:25.377932Z"
    },
    "papermill": {
     "duration": 0.334923,
     "end_time": "2022-04-11T08:55:25.831063",
     "exception": false,
     "start_time": "2022-04-11T08:55:25.496140",
     "status": "completed"
    },
    "tags": []
   },
   "outputs": [
    {
     "data": {
      "image/png": "[encoded data removed]",
      "text/plain": [
       "<Figure size 432x288 with 1 Axes>"
      ]
     },
     "metadata": {
      "needs_background": "light"
     },
     "output_type": "display_data"
    }
   ],
   "source": [
    "bar_graph('protocol_type')"
   ]
  },
  {
   "cell_type": "markdown",
   "metadata": {
    "papermill": {
     "duration": 0.084805,
     "end_time": "2022-04-11T08:55:25.999998",
     "exception": false,
     "start_time": "2022-04-11T08:55:25.915193",
     "status": "completed"
    },
    "tags": []
   },
   "source": [
    "Protocol type: We notice that ICMP is the most present in the used data, then TCP and almost 20000 packets of UDP type"
   ]
  },
  {
   "cell_type": "code",
   "execution_count": 16,
   "metadata": {
    "execution": {
     "iopub.execute_input": "2022-04-11T08:55:26.289021Z",
     "iopub.status.busy": "2022-04-11T08:55:26.288140Z",
     "iopub.status.idle": "2022-04-11T08:55:26.874536Z",
     "shell.execute_reply": "2022-04-11T08:55:26.874981Z",
     "shell.execute_reply.started": "2022-04-11T08:18:25.710220Z"
    },
    "papermill": {
     "duration": 0.785526,
     "end_time": "2022-04-11T08:55:26.875110",
     "exception": false,
     "start_time": "2022-04-11T08:55:26.089584",
     "status": "completed"
    },
    "tags": []
   },
   "outputs": [
    {
     "data": {
      "image/png": "[encoded data removed]",
      "text/plain": [
       "<Figure size 1080x216 with 1 Axes>"
      ]
     },
     "metadata": {
      "needs_background": "light"
     },
     "output_type": "display_data"
    }
   ],
   "source": [
    "plt.figure(figsize=(15,3))\n",
    "bar_graph('service')"
   ]
  },
  {
   "cell_type": "code",
   "execution_count": 17,
   "metadata": {
    "execution": {
     "iopub.execute_input": "2022-04-11T08:55:27.153588Z",
     "iopub.status.busy": "2022-04-11T08:55:27.152746Z",
     "iopub.status.idle": "2022-04-11T08:55:27.285824Z",
     "shell.execute_reply": "2022-04-11T08:55:27.284961Z",
     "shell.execute_reply.started": "2022-04-11T08:18:26.404640Z"
    },
    "papermill": {
     "duration": 0.324571,
     "end_time": "2022-04-11T08:55:27.285920",
     "exception": false,
     "start_time": "2022-04-11T08:55:26.961349",
     "status": "completed"
    },
    "tags": []
   },
   "outputs": [
    {
     "data": {
      "image/png": "[encoded data removed]",
      "text/plain": [
       "<Figure size 432x288 with 1 Axes>"
      ]
     },
     "metadata": {
      "needs_background": "light"
     },
     "output_type": "display_data"
    }
   ],
   "source": [
    "bar_graph('flag')"
   ]
  },
  {
   "cell_type": "code",
   "execution_count": 18,
   "metadata": {
    "execution": {
     "iopub.execute_input": "2022-04-11T08:55:27.462465Z",
     "iopub.status.busy": "2022-04-11T08:55:27.461697Z",
     "iopub.status.idle": "2022-04-11T08:55:27.564930Z",
     "shell.execute_reply": "2022-04-11T08:55:27.565421Z",
     "shell.execute_reply.started": "2022-04-11T08:18:26.649292Z"
    },
    "papermill": {
     "duration": 0.192851,
     "end_time": "2022-04-11T08:55:27.565542",
     "exception": false,
     "start_time": "2022-04-11T08:55:27.372691",
     "status": "completed"
    },
    "tags": []
   },
   "outputs": [
    {
     "data": {
      "image/png": "[encoded data removed]",
      "text/plain": [
       "<Figure size 432x288 with 1 Axes>"
      ]
     },
     "metadata": {
      "needs_background": "light"
     },
     "output_type": "display_data"
    }
   ],
   "source": [
    "bar_graph('logged_in')"
   ]
  },
  {
   "cell_type": "markdown",
   "metadata": {
    "papermill": {
     "duration": 0.08622,
     "end_time": "2022-04-11T08:55:27.739793",
     "exception": false,
     "start_time": "2022-04-11T08:55:27.653573",
     "status": "completed"
    },
    "tags": []
   },
   "source": [
    "logged_in (1 if successfully logged in; 0 otherwise): We notice that just 70000 packets are successfully logged in."
   ]
  },
  {
   "cell_type": "markdown",
   "metadata": {
    "papermill": {
     "duration": 0.08595,
     "end_time": "2022-04-11T08:55:27.920032",
     "exception": false,
     "start_time": "2022-04-11T08:55:27.834082",
     "status": "completed"
    },
    "tags": []
   },
   "source": [
    "TARGET FEATURE DISTRIBUTION"
   ]
  },
  {
   "cell_type": "code",
   "execution_count": 19,
   "metadata": {
    "execution": {
     "iopub.execute_input": "2022-04-11T08:55:28.199795Z",
     "iopub.status.busy": "2022-04-11T08:55:28.198830Z",
     "iopub.status.idle": "2022-04-11T08:55:28.390037Z",
     "shell.execute_reply": "2022-04-11T08:55:28.389285Z",
     "shell.execute_reply.started": "2022-04-11T08:18:26.760008Z"
    },
    "papermill": {
     "duration": 0.382903,
     "end_time": "2022-04-11T08:55:28.390134",
     "exception": false,
     "start_time": "2022-04-11T08:55:28.007231",
     "status": "completed"
    },
    "tags": []
   },
   "outputs": [
    {
     "data": {
      "image/png": "[encoded data removed]",
      "text/plain": [
       "<Figure size 432x288 with 1 Axes>"
      ]
     },
     "metadata": {
      "needs_background": "light"
     },
     "output_type": "display_data"
    }
   ],
   "source": [
    "bar_graph('target')"
   ]
  },
  {
   "cell_type": "markdown",
   "metadata": {
    "papermill": {
     "duration": 0.08667,
     "end_time": "2022-04-11T08:55:28.564556",
     "exception": false,
     "start_time": "2022-04-11T08:55:28.477886",
     "status": "completed"
    },
    "tags": []
   },
   "source": [
    "Attack Type(The attack types grouped by attack, it's what we will predict)"
   ]
  },
  {
   "cell_type": "code",
   "execution_count": 20,
   "metadata": {
    "execution": {
     "iopub.execute_input": "2022-04-11T08:55:28.835058Z",
     "iopub.status.busy": "2022-04-11T08:55:28.834063Z",
     "iopub.status.idle": "2022-04-11T08:55:28.946018Z",
     "shell.execute_reply": "2022-04-11T08:55:28.945600Z",
     "shell.execute_reply.started": "2022-04-11T08:18:27.054863Z"
    },
    "papermill": {
     "duration": 0.293959,
     "end_time": "2022-04-11T08:55:28.946114",
     "exception": false,
     "start_time": "2022-04-11T08:55:28.652155",
     "status": "completed"
    },
    "tags": []
   },
   "outputs": [
    {
     "data": {
      "image/png": "[encoded data removed]",
      "text/plain": [
       "<Figure size 432x288 with 1 Axes>"
      ]
     },
     "metadata": {
      "needs_background": "light"
     },
     "output_type": "display_data"
    }
   ],
   "source": [
    "bar_graph('Attack Type')"
   ]
  },
  {
   "cell_type": "code",
   "execution_count": 21,
   "metadata": {
    "execution": {
     "iopub.execute_input": "2022-04-11T08:55:29.129013Z",
     "iopub.status.busy": "2022-04-11T08:55:29.128218Z",
     "iopub.status.idle": "2022-04-11T08:55:29.131494Z",
     "shell.execute_reply": "2022-04-11T08:55:29.131883Z",
     "shell.execute_reply.started": "2022-04-11T08:18:27.263635Z"
    },
    "papermill": {
     "duration": 0.09706,
     "end_time": "2022-04-11T08:55:29.131995",
     "exception": false,
     "start_time": "2022-04-11T08:55:29.034935",
     "status": "completed"
    },
    "tags": []
   },
   "outputs": [
    {
     "data": {
      "text/plain": [
       "Index(['duration', 'protocol_type', 'service', 'flag', 'src_bytes',\n",
       "       'dst_bytes', 'land', 'wrong_fragment', 'urgent', 'hot',\n",
       "       'num_failed_logins', 'logged_in', 'num_compromised', 'root_shell',\n",
       "       'su_attempted', 'num_root', 'num_file_creations', 'num_shells',\n",
       "       'num_access_files', 'num_outbound_cmds', 'is_host_login',\n",
       "       'is_guest_login', 'count', 'srv_count', 'serror_rate',\n",
       "       'srv_serror_rate', 'rerror_rate', 'srv_rerror_rate', 'same_srv_rate',\n",
       "       'diff_srv_rate', 'srv_diff_host_rate', 'dst_host_count',\n",
       "       'dst_host_srv_count', 'dst_host_same_srv_rate',\n",
       "       'dst_host_diff_srv_rate', 'dst_host_same_src_port_rate',\n",
       "       'dst_host_srv_diff_host_rate', 'dst_host_serror_rate',\n",
       "       'dst_host_srv_serror_rate', 'dst_host_rerror_rate',\n",
       "       'dst_host_srv_rerror_rate', 'target', 'Attack Type'],\n",
       "      dtype='object')"
      ]
     },
     "execution_count": 21,
     "metadata": {},
     "output_type": "execute_result"
    }
   ],
   "source": [
    "df.columns"
   ]
  },
  {
   "cell_type": "markdown",
   "metadata": {
    "papermill": {
     "duration": 0.088222,
     "end_time": "2022-04-11T08:55:29.308192",
     "exception": false,
     "start_time": "2022-04-11T08:55:29.219970",
     "status": "completed"
    },
    "tags": []
   },
   "source": [
    "DATA CORRELATION"
   ]
  },
  {
   "cell_type": "code",
   "execution_count": 22,
   "metadata": {
    "execution": {
     "iopub.execute_input": "2022-04-11T08:55:29.490210Z",
     "iopub.status.busy": "2022-04-11T08:55:29.489299Z",
     "iopub.status.idle": "2022-04-11T08:55:32.266784Z",
     "shell.execute_reply": "2022-04-11T08:55:32.267285Z",
     "shell.execute_reply.started": "2022-04-11T08:18:27.273982Z"
    },
    "papermill": {
     "duration": 2.871253,
     "end_time": "2022-04-11T08:55:32.267450",
     "exception": false,
     "start_time": "2022-04-11T08:55:29.396197",
     "status": "completed"
    },
    "tags": []
   },
   "outputs": [
    {
     "data": {
      "image/png": "[encoded data removed]",
      "text/plain": [
       "<Figure size 1080x864 with 2 Axes>"
      ]
     },
     "metadata": {
      "needs_background": "light"
     },
     "output_type": "display_data"
    }
   ],
   "source": [
    "df = df.dropna('columns')# drop columns with NaN\n",
    "\n",
    "df = df[[col for col in df if df[col].nunique() > 1]]# keep columns where there are more than 1 unique values\n",
    "\n",
    "corr = df.corr()\n",
    "\n",
    "plt.figure(figsize=(15,12))\n",
    "\n",
    "sns.heatmap(corr)\n",
    "\n",
    "plt.show()"
   ]
  },
  {
   "cell_type": "code",
   "execution_count": 23,
   "metadata": {
    "execution": {
     "iopub.execute_input": "2022-04-11T08:55:32.469898Z",
     "iopub.status.busy": "2022-04-11T08:55:32.469392Z",
     "iopub.status.idle": "2022-04-11T08:55:32.483940Z",
     "shell.execute_reply": "2022-04-11T08:55:32.483438Z",
     "shell.execute_reply.started": "2022-04-11T08:18:29.733166Z"
    },
    "papermill": {
     "duration": 0.108069,
     "end_time": "2022-04-11T08:55:32.484028",
     "exception": false,
     "start_time": "2022-04-11T08:55:32.375959",
     "status": "completed"
    },
    "tags": []
   },
   "outputs": [
    {
     "data": {
      "text/plain": [
       "0.9938277978738129"
      ]
     },
     "execution_count": 23,
     "metadata": {},
     "output_type": "execute_result"
    }
   ],
   "source": [
    "df['num_root'].corr(df['num_compromised'])"
   ]
  },
  {
   "cell_type": "code",
   "execution_count": 24,
   "metadata": {
    "execution": {
     "iopub.execute_input": "2022-04-11T08:55:32.672084Z",
     "iopub.status.busy": "2022-04-11T08:55:32.670550Z",
     "iopub.status.idle": "2022-04-11T08:55:32.680069Z",
     "shell.execute_reply": "2022-04-11T08:55:32.679655Z",
     "shell.execute_reply.started": "2022-04-11T08:18:29.754329Z"
    },
    "papermill": {
     "duration": 0.105405,
     "end_time": "2022-04-11T08:55:32.680160",
     "exception": false,
     "start_time": "2022-04-11T08:55:32.574755",
     "status": "completed"
    },
    "tags": []
   },
   "outputs": [
    {
     "data": {
      "text/plain": [
       "0.9983615072725588"
      ]
     },
     "execution_count": 24,
     "metadata": {},
     "output_type": "execute_result"
    }
   ],
   "source": [
    "df['srv_serror_rate'].corr(df['serror_rate'])"
   ]
  },
  {
   "cell_type": "code",
   "execution_count": 25,
   "metadata": {
    "execution": {
     "iopub.execute_input": "2022-04-11T08:55:32.868582Z",
     "iopub.status.busy": "2022-04-11T08:55:32.867188Z",
     "iopub.status.idle": "2022-04-11T08:55:32.877196Z",
     "shell.execute_reply": "2022-04-11T08:55:32.876673Z",
     "shell.execute_reply.started": "2022-04-11T08:18:29.770779Z"
    },
    "papermill": {
     "duration": 0.105082,
     "end_time": "2022-04-11T08:55:32.877294",
     "exception": false,
     "start_time": "2022-04-11T08:55:32.772212",
     "status": "completed"
    },
    "tags": []
   },
   "outputs": [
    {
     "data": {
      "text/plain": [
       "0.9436670688882609"
      ]
     },
     "execution_count": 25,
     "metadata": {},
     "output_type": "execute_result"
    }
   ],
   "source": [
    "df['srv_count'].corr(df['count'])"
   ]
  },
  {
   "cell_type": "code",
   "execution_count": 26,
   "metadata": {
    "execution": {
     "iopub.execute_input": "2022-04-11T08:55:33.069684Z",
     "iopub.status.busy": "2022-04-11T08:55:33.068095Z",
     "iopub.status.idle": "2022-04-11T08:55:33.077589Z",
     "shell.execute_reply": "2022-04-11T08:55:33.078054Z",
     "shell.execute_reply.started": "2022-04-11T08:18:29.786256Z"
    },
    "papermill": {
     "duration": 0.105329,
     "end_time": "2022-04-11T08:55:33.078186",
     "exception": false,
     "start_time": "2022-04-11T08:55:32.972857",
     "status": "completed"
    },
    "tags": []
   },
   "outputs": [
    {
     "data": {
      "text/plain": [
       "0.9947309539818195"
      ]
     },
     "execution_count": 26,
     "metadata": {},
     "output_type": "execute_result"
    }
   ],
   "source": [
    "df['srv_rerror_rate'].corr(df['rerror_rate'])"
   ]
  },
  {
   "cell_type": "code",
   "execution_count": 27,
   "metadata": {
    "execution": {
     "iopub.execute_input": "2022-04-11T08:55:33.269032Z",
     "iopub.status.busy": "2022-04-11T08:55:33.267861Z",
     "iopub.status.idle": "2022-04-11T08:55:33.277840Z",
     "shell.execute_reply": "2022-04-11T08:55:33.277383Z",
     "shell.execute_reply.started": "2022-04-11T08:18:29.802913Z"
    },
    "papermill": {
     "duration": 0.10572,
     "end_time": "2022-04-11T08:55:33.277938",
     "exception": false,
     "start_time": "2022-04-11T08:55:33.172218",
     "status": "completed"
    },
    "tags": []
   },
   "outputs": [
    {
     "data": {
      "text/plain": [
       "0.9736854572953938"
      ]
     },
     "execution_count": 27,
     "metadata": {},
     "output_type": "execute_result"
    }
   ],
   "source": [
    "df['dst_host_same_srv_rate'].corr(df['dst_host_srv_count'])"
   ]
  },
  {
   "cell_type": "code",
   "execution_count": 28,
   "metadata": {
    "execution": {
     "iopub.execute_input": "2022-04-11T08:55:33.473735Z",
     "iopub.status.busy": "2022-04-11T08:55:33.472540Z",
     "iopub.status.idle": "2022-04-11T08:55:33.481789Z",
     "shell.execute_reply": "2022-04-11T08:55:33.481246Z",
     "shell.execute_reply.started": "2022-04-11T08:18:29.820130Z"
    },
    "papermill": {
     "duration": 0.104368,
     "end_time": "2022-04-11T08:55:33.481877",
     "exception": false,
     "start_time": "2022-04-11T08:55:33.377509",
     "status": "completed"
    },
    "tags": []
   },
   "outputs": [
    {
     "data": {
      "text/plain": [
       "0.9981559173373276"
      ]
     },
     "execution_count": 28,
     "metadata": {},
     "output_type": "execute_result"
    }
   ],
   "source": [
    "df['dst_host_srv_serror_rate'].corr(df['dst_host_serror_rate'])"
   ]
  },
  {
   "cell_type": "code",
   "execution_count": 29,
   "metadata": {
    "execution": {
     "iopub.execute_input": "2022-04-11T08:55:33.676176Z",
     "iopub.status.busy": "2022-04-11T08:55:33.674566Z",
     "iopub.status.idle": "2022-04-11T08:55:33.684965Z",
     "shell.execute_reply": "2022-04-11T08:55:33.684309Z",
     "shell.execute_reply.started": "2022-04-11T08:18:29.837207Z"
    },
    "papermill": {
     "duration": 0.108413,
     "end_time": "2022-04-11T08:55:33.685067",
     "exception": false,
     "start_time": "2022-04-11T08:55:33.576654",
     "status": "completed"
    },
    "tags": []
   },
   "outputs": [
    {
     "data": {
      "text/plain": [
       "0.9848038371110384"
      ]
     },
     "execution_count": 29,
     "metadata": {},
     "output_type": "execute_result"
    }
   ],
   "source": [
    "df['dst_host_srv_rerror_rate'].corr(df['dst_host_rerror_rate'])"
   ]
  },
  {
   "cell_type": "code",
   "execution_count": 30,
   "metadata": {
    "execution": {
     "iopub.execute_input": "2022-04-11T08:55:33.895039Z",
     "iopub.status.busy": "2022-04-11T08:55:33.893506Z",
     "iopub.status.idle": "2022-04-11T08:55:33.903879Z",
     "shell.execute_reply": "2022-04-11T08:55:33.903391Z",
     "shell.execute_reply.started": "2022-04-11T08:18:29.854250Z"
    },
    "papermill": {
     "duration": 0.110773,
     "end_time": "2022-04-11T08:55:33.903986",
     "exception": false,
     "start_time": "2022-04-11T08:55:33.793213",
     "status": "completed"
    },
    "tags": []
   },
   "outputs": [
    {
     "data": {
      "text/plain": [
       "0.9278080342691318"
      ]
     },
     "execution_count": 30,
     "metadata": {},
     "output_type": "execute_result"
    }
   ],
   "source": [
    "df['dst_host_same_srv_rate'].corr(df['same_srv_rate'])"
   ]
  },
  {
   "cell_type": "code",
   "execution_count": 31,
   "metadata": {
    "execution": {
     "iopub.execute_input": "2022-04-11T08:55:34.128635Z",
     "iopub.status.busy": "2022-04-11T08:55:34.126923Z",
     "iopub.status.idle": "2022-04-11T08:55:34.139648Z",
     "shell.execute_reply": "2022-04-11T08:55:34.139078Z",
     "shell.execute_reply.started": "2022-04-11T08:18:29.870927Z"
    },
    "papermill": {
     "duration": 0.124451,
     "end_time": "2022-04-11T08:55:34.139770",
     "exception": false,
     "start_time": "2022-04-11T08:55:34.015319",
     "status": "completed"
    },
    "tags": []
   },
   "outputs": [
    {
     "data": {
      "text/plain": [
       "0.8989546630323971"
      ]
     },
     "execution_count": 31,
     "metadata": {},
     "output_type": "execute_result"
    }
   ],
   "source": [
    "df['dst_host_srv_count'].corr(df['same_srv_rate'])"
   ]
  },
  {
   "cell_type": "code",
   "execution_count": 32,
   "metadata": {
    "execution": {
     "iopub.execute_input": "2022-04-11T08:55:34.333043Z",
     "iopub.status.busy": "2022-04-11T08:55:34.331995Z",
     "iopub.status.idle": "2022-04-11T08:55:34.341712Z",
     "shell.execute_reply": "2022-04-11T08:55:34.341247Z",
     "shell.execute_reply.started": "2022-04-11T08:18:29.894973Z"
    },
    "papermill": {
     "duration": 0.106626,
     "end_time": "2022-04-11T08:55:34.341813",
     "exception": false,
     "start_time": "2022-04-11T08:55:34.235187",
     "status": "completed"
    },
    "tags": []
   },
   "outputs": [
    {
     "data": {
      "text/plain": [
       "0.9449263676783212"
      ]
     },
     "execution_count": 32,
     "metadata": {},
     "output_type": "execute_result"
    }
   ],
   "source": [
    "df['dst_host_same_src_port_rate'].corr(df['srv_count'])"
   ]
  },
  {
   "cell_type": "code",
   "execution_count": 33,
   "metadata": {
    "execution": {
     "iopub.execute_input": "2022-04-11T08:55:34.533686Z",
     "iopub.status.busy": "2022-04-11T08:55:34.532214Z",
     "iopub.status.idle": "2022-04-11T08:55:34.541795Z",
     "shell.execute_reply": "2022-04-11T08:55:34.541300Z",
     "shell.execute_reply.started": "2022-04-11T08:18:29.912451Z"
    },
    "papermill": {
     "duration": 0.105831,
     "end_time": "2022-04-11T08:55:34.541890",
     "exception": false,
     "start_time": "2022-04-11T08:55:34.436059",
     "status": "completed"
    },
    "tags": []
   },
   "outputs": [
    {
     "data": {
      "text/plain": [
       "0.9986729680105014"
      ]
     },
     "execution_count": 33,
     "metadata": {},
     "output_type": "execute_result"
    }
   ],
   "source": [
    "df['dst_host_serror_rate'].corr(df['serror_rate'])"
   ]
  },
  {
   "cell_type": "code",
   "execution_count": 34,
   "metadata": {
    "execution": {
     "iopub.execute_input": "2022-04-11T08:55:34.734161Z",
     "iopub.status.busy": "2022-04-11T08:55:34.732654Z",
     "iopub.status.idle": "2022-04-11T08:55:34.742157Z",
     "shell.execute_reply": "2022-04-11T08:55:34.741737Z",
     "shell.execute_reply.started": "2022-04-11T08:18:29.928500Z"
    },
    "papermill": {
     "duration": 0.106589,
     "end_time": "2022-04-11T08:55:34.742249",
     "exception": false,
     "start_time": "2022-04-11T08:55:34.635660",
     "status": "completed"
    },
    "tags": []
   },
   "outputs": [
    {
     "data": {
      "text/plain": [
       "0.997835300373957"
      ]
     },
     "execution_count": 34,
     "metadata": {},
     "output_type": "execute_result"
    }
   ],
   "source": [
    "df['dst_host_serror_rate'].corr(df['srv_serror_rate'])"
   ]
  },
  {
   "cell_type": "code",
   "execution_count": 35,
   "metadata": {
    "execution": {
     "iopub.execute_input": "2022-04-11T08:55:34.946540Z",
     "iopub.status.busy": "2022-04-11T08:55:34.944820Z",
     "iopub.status.idle": "2022-04-11T08:55:34.955640Z",
     "shell.execute_reply": "2022-04-11T08:55:34.955108Z",
     "shell.execute_reply.started": "2022-04-11T08:18:29.944825Z"
    },
    "papermill": {
     "duration": 0.114806,
     "end_time": "2022-04-11T08:55:34.955767",
     "exception": false,
     "start_time": "2022-04-11T08:55:34.840961",
     "status": "completed"
    },
    "tags": []
   },
   "outputs": [
    {
     "data": {
      "text/plain": [
       "0.9978492485679914"
      ]
     },
     "execution_count": 35,
     "metadata": {},
     "output_type": "execute_result"
    }
   ],
   "source": [
    "df['dst_host_srv_serror_rate'].corr(df['serror_rate'])"
   ]
  },
  {
   "cell_type": "code",
   "execution_count": 36,
   "metadata": {
    "execution": {
     "iopub.execute_input": "2022-04-11T08:55:35.153304Z",
     "iopub.status.busy": "2022-04-11T08:55:35.151893Z",
     "iopub.status.idle": "2022-04-11T08:55:35.161928Z",
     "shell.execute_reply": "2022-04-11T08:55:35.161381Z",
     "shell.execute_reply.started": "2022-04-11T08:18:29.960360Z"
    },
    "papermill": {
     "duration": 0.107417,
     "end_time": "2022-04-11T08:55:35.162047",
     "exception": false,
     "start_time": "2022-04-11T08:55:35.054630",
     "status": "completed"
    },
    "tags": []
   },
   "outputs": [
    {
     "data": {
      "text/plain": [
       "0.9993041091849968"
      ]
     },
     "execution_count": 36,
     "metadata": {},
     "output_type": "execute_result"
    }
   ],
   "source": [
    "df['dst_host_srv_serror_rate'].corr(df['srv_serror_rate'])"
   ]
  },
  {
   "cell_type": "code",
   "execution_count": 37,
   "metadata": {
    "execution": {
     "iopub.execute_input": "2022-04-11T08:55:35.356040Z",
     "iopub.status.busy": "2022-04-11T08:55:35.354633Z",
     "iopub.status.idle": "2022-04-11T08:55:35.363813Z",
     "shell.execute_reply": "2022-04-11T08:55:35.363390Z",
     "shell.execute_reply.started": "2022-04-11T08:18:29.975730Z"
    },
    "papermill": {
     "duration": 0.106959,
     "end_time": "2022-04-11T08:55:35.363906",
     "exception": false,
     "start_time": "2022-04-11T08:55:35.256947",
     "status": "completed"
    },
    "tags": []
   },
   "outputs": [
    {
     "data": {
      "text/plain": [
       "0.986994792495607"
      ]
     },
     "execution_count": 37,
     "metadata": {},
     "output_type": "execute_result"
    }
   ],
   "source": [
    "df['dst_host_rerror_rate'].corr(df['rerror_rate'])"
   ]
  },
  {
   "cell_type": "code",
   "execution_count": 38,
   "metadata": {
    "execution": {
     "iopub.execute_input": "2022-04-11T08:55:35.558300Z",
     "iopub.status.busy": "2022-04-11T08:55:35.556916Z",
     "iopub.status.idle": "2022-04-11T08:55:35.566619Z",
     "shell.execute_reply": "2022-04-11T08:55:35.566154Z",
     "shell.execute_reply.started": "2022-04-11T08:18:29.991028Z"
    },
    "papermill": {
     "duration": 0.107423,
     "end_time": "2022-04-11T08:55:35.566715",
     "exception": false,
     "start_time": "2022-04-11T08:55:35.459292",
     "status": "completed"
    },
    "tags": []
   },
   "outputs": [
    {
     "data": {
      "text/plain": [
       "0.9821663427308442"
      ]
     },
     "execution_count": 38,
     "metadata": {},
     "output_type": "execute_result"
    }
   ],
   "source": [
    "df['dst_host_rerror_rate'].corr(df['srv_rerror_rate'])"
   ]
  },
  {
   "cell_type": "code",
   "execution_count": 39,
   "metadata": {
    "execution": {
     "iopub.execute_input": "2022-04-11T08:55:35.764848Z",
     "iopub.status.busy": "2022-04-11T08:55:35.763383Z",
     "iopub.status.idle": "2022-04-11T08:55:35.772475Z",
     "shell.execute_reply": "2022-04-11T08:55:35.771915Z",
     "shell.execute_reply.started": "2022-04-11T08:18:30.007834Z"
    },
    "papermill": {
     "duration": 0.109854,
     "end_time": "2022-04-11T08:55:35.772569",
     "exception": false,
     "start_time": "2022-04-11T08:55:35.662715",
     "status": "completed"
    },
    "tags": []
   },
   "outputs": [
    {
     "data": {
      "text/plain": [
       "0.9851995540751446"
      ]
     },
     "execution_count": 39,
     "metadata": {},
     "output_type": "execute_result"
    }
   ],
   "source": [
    "df['dst_host_srv_rerror_rate'].corr(df['rerror_rate'])"
   ]
  },
  {
   "cell_type": "code",
   "execution_count": 40,
   "metadata": {
    "execution": {
     "iopub.execute_input": "2022-04-11T08:55:35.971390Z",
     "iopub.status.busy": "2022-04-11T08:55:35.970094Z",
     "iopub.status.idle": "2022-04-11T08:55:35.979723Z",
     "shell.execute_reply": "2022-04-11T08:55:35.979168Z",
     "shell.execute_reply.started": "2022-04-11T08:18:30.024920Z"
    },
    "papermill": {
     "duration": 0.108259,
     "end_time": "2022-04-11T08:55:35.979825",
     "exception": false,
     "start_time": "2022-04-11T08:55:35.871566",
     "status": "completed"
    },
    "tags": []
   },
   "outputs": [
    {
     "data": {
      "text/plain": [
       "0.9865705438845719"
      ]
     },
     "execution_count": 40,
     "metadata": {},
     "output_type": "execute_result"
    }
   ],
   "source": [
    "df['dst_host_srv_rerror_rate'].corr(df['srv_rerror_rate'])"
   ]
  },
  {
   "cell_type": "code",
   "execution_count": 41,
   "metadata": {
    "execution": {
     "iopub.execute_input": "2022-04-11T08:55:36.210205Z",
     "iopub.status.busy": "2022-04-11T08:55:36.208843Z",
     "iopub.status.idle": "2022-04-11T08:55:36.637161Z",
     "shell.execute_reply": "2022-04-11T08:55:36.635688Z",
     "shell.execute_reply.started": "2022-04-11T08:18:30.039499Z"
    },
    "papermill": {
     "duration": 0.560992,
     "end_time": "2022-04-11T08:55:36.637277",
     "exception": false,
     "start_time": "2022-04-11T08:55:36.076285",
     "status": "completed"
    },
    "tags": []
   },
   "outputs": [],
   "source": [
    "#This variable is highly correlated with num_compromised and should be ignored for analysis.\n",
    "#(Correlation = 0.9938277978738366)\n",
    "df.drop('num_root',axis = 1,inplace = True)\n",
    "\n",
    "#This variable is highly correlated with serror_rate and should be ignored for analysis.\n",
    "#(Correlation = 0.9983615072725952)\n",
    "df.drop('srv_serror_rate',axis = 1,inplace = True)\n",
    "\n",
    "#This variable is highly correlated with rerror_rate and should be ignored for analysis.\n",
    "#(Correlation = 0.9947309539817937)\n",
    "df.drop('srv_rerror_rate',axis = 1, inplace=True)\n",
    "\n",
    "#This variable is highly correlated with srv_serror_rate and should be ignored for analysis.\n",
    "#(Correlation = 0.9993041091850098)\n",
    "df.drop('dst_host_srv_serror_rate',axis = 1, inplace=True)\n",
    "\n",
    "#This variable is highly correlated with rerror_rate and should be ignored for analysis.\n",
    "#(Correlation = 0.9869947924956001)\n",
    "df.drop('dst_host_serror_rate',axis = 1, inplace=True)\n",
    "\n",
    "#This variable is highly correlated with srv_rerror_rate and should be ignored for analysis.\n",
    "#(Correlation = 0.9821663427308375)\n",
    "df.drop('dst_host_rerror_rate',axis = 1, inplace=True)\n",
    "\n",
    "#This variable is highly correlated with rerror_rate and should be ignored for analysis.\n",
    "#(Correlation = 0.9851995540751249)\n",
    "df.drop('dst_host_srv_rerror_rate',axis = 1, inplace=True)\n",
    "\n",
    "#This variable is highly correlated with dst_host_srv_count and should be ignored for analysis.\n",
    "#(Correlation = 0.9736854572953938)\n",
    "df.drop('dst_host_same_srv_rate',axis = 1, inplace=True)"
   ]
  },
  {
   "cell_type": "code",
   "execution_count": 42,
   "metadata": {
    "execution": {
     "iopub.execute_input": "2022-04-11T08:55:36.854644Z",
     "iopub.status.busy": "2022-04-11T08:55:36.853741Z",
     "iopub.status.idle": "2022-04-11T08:55:36.857865Z",
     "shell.execute_reply": "2022-04-11T08:55:36.857452Z",
     "shell.execute_reply.started": "2022-04-11T08:18:30.513061Z"
    },
    "papermill": {
     "duration": 0.122879,
     "end_time": "2022-04-11T08:55:36.857959",
     "exception": false,
     "start_time": "2022-04-11T08:55:36.735080",
     "status": "completed"
    },
    "tags": []
   },
   "outputs": [
    {
     "data": {
      "text/html": [
       "<div>\n",
       "<style scoped>\n",
       "    .dataframe tbody tr th:only-of-type {\n",
       "        vertical-align: middle;\n",
       "    }\n",
       "\n",
       "    .dataframe tbody tr th {\n",
       "        vertical-align: top;\n",
       "    }\n",
       "\n",
       "    .dataframe thead th {\n",
       "        text-align: right;\n",
       "    }\n",
       "</style>\n",
       "<table border=\"1\" class=\"dataframe\">\n",
       "  <thead>\n",
       "    <tr style=\"text-align: right;\">\n",
       "      <th></th>\n",
       "      <th>duration</th>\n",
       "      <th>protocol_type</th>\n",
       "      <th>service</th>\n",
       "      <th>flag</th>\n",
       "      <th>src_bytes</th>\n",
       "      <th>dst_bytes</th>\n",
       "      <th>land</th>\n",
       "      <th>wrong_fragment</th>\n",
       "      <th>urgent</th>\n",
       "      <th>hot</th>\n",
       "      <th>...</th>\n",
       "      <th>same_srv_rate</th>\n",
       "      <th>diff_srv_rate</th>\n",
       "      <th>srv_diff_host_rate</th>\n",
       "      <th>dst_host_count</th>\n",
       "      <th>dst_host_srv_count</th>\n",
       "      <th>dst_host_diff_srv_rate</th>\n",
       "      <th>dst_host_same_src_port_rate</th>\n",
       "      <th>dst_host_srv_diff_host_rate</th>\n",
       "      <th>target</th>\n",
       "      <th>Attack Type</th>\n",
       "    </tr>\n",
       "  </thead>\n",
       "  <tbody>\n",
       "    <tr>\n",
       "      <th>0</th>\n",
       "      <td>0</td>\n",
       "      <td>tcp</td>\n",
       "      <td>http</td>\n",
       "      <td>SF</td>\n",
       "      <td>181</td>\n",
       "      <td>5450</td>\n",
       "      <td>0</td>\n",
       "      <td>0</td>\n",
       "      <td>0</td>\n",
       "      <td>0</td>\n",
       "      <td>...</td>\n",
       "      <td>1.0</td>\n",
       "      <td>0.0</td>\n",
       "      <td>0.0</td>\n",
       "      <td>9</td>\n",
       "      <td>9</td>\n",
       "      <td>0.0</td>\n",
       "      <td>0.11</td>\n",
       "      <td>0.0</td>\n",
       "      <td>normal.</td>\n",
       "      <td>normal</td>\n",
       "    </tr>\n",
       "    <tr>\n",
       "      <th>1</th>\n",
       "      <td>0</td>\n",
       "      <td>tcp</td>\n",
       "      <td>http</td>\n",
       "      <td>SF</td>\n",
       "      <td>239</td>\n",
       "      <td>486</td>\n",
       "      <td>0</td>\n",
       "      <td>0</td>\n",
       "      <td>0</td>\n",
       "      <td>0</td>\n",
       "      <td>...</td>\n",
       "      <td>1.0</td>\n",
       "      <td>0.0</td>\n",
       "      <td>0.0</td>\n",
       "      <td>19</td>\n",
       "      <td>19</td>\n",
       "      <td>0.0</td>\n",
       "      <td>0.05</td>\n",
       "      <td>0.0</td>\n",
       "      <td>normal.</td>\n",
       "      <td>normal</td>\n",
       "    </tr>\n",
       "    <tr>\n",
       "      <th>2</th>\n",
       "      <td>0</td>\n",
       "      <td>tcp</td>\n",
       "      <td>http</td>\n",
       "      <td>SF</td>\n",
       "      <td>235</td>\n",
       "      <td>1337</td>\n",
       "      <td>0</td>\n",
       "      <td>0</td>\n",
       "      <td>0</td>\n",
       "      <td>0</td>\n",
       "      <td>...</td>\n",
       "      <td>1.0</td>\n",
       "      <td>0.0</td>\n",
       "      <td>0.0</td>\n",
       "      <td>29</td>\n",
       "      <td>29</td>\n",
       "      <td>0.0</td>\n",
       "      <td>0.03</td>\n",
       "      <td>0.0</td>\n",
       "      <td>normal.</td>\n",
       "      <td>normal</td>\n",
       "    </tr>\n",
       "    <tr>\n",
       "      <th>3</th>\n",
       "      <td>0</td>\n",
       "      <td>tcp</td>\n",
       "      <td>http</td>\n",
       "      <td>SF</td>\n",
       "      <td>219</td>\n",
       "      <td>1337</td>\n",
       "      <td>0</td>\n",
       "      <td>0</td>\n",
       "      <td>0</td>\n",
       "      <td>0</td>\n",
       "      <td>...</td>\n",
       "      <td>1.0</td>\n",
       "      <td>0.0</td>\n",
       "      <td>0.0</td>\n",
       "      <td>39</td>\n",
       "      <td>39</td>\n",
       "      <td>0.0</td>\n",
       "      <td>0.03</td>\n",
       "      <td>0.0</td>\n",
       "      <td>normal.</td>\n",
       "      <td>normal</td>\n",
       "    </tr>\n",
       "    <tr>\n",
       "      <th>4</th>\n",
       "      <td>0</td>\n",
       "      <td>tcp</td>\n",
       "      <td>http</td>\n",
       "      <td>SF</td>\n",
       "      <td>217</td>\n",
       "      <td>2032</td>\n",
       "      <td>0</td>\n",
       "      <td>0</td>\n",
       "      <td>0</td>\n",
       "      <td>0</td>\n",
       "      <td>...</td>\n",
       "      <td>1.0</td>\n",
       "      <td>0.0</td>\n",
       "      <td>0.0</td>\n",
       "      <td>49</td>\n",
       "      <td>49</td>\n",
       "      <td>0.0</td>\n",
       "      <td>0.02</td>\n",
       "      <td>0.0</td>\n",
       "      <td>normal.</td>\n",
       "      <td>normal</td>\n",
       "    </tr>\n",
       "  </tbody>\n",
       "</table>\n",
       "<p>5 rows × 33 columns</p>\n",
       "</div>"
      ],
      "text/plain": [
       "   duration protocol_type service flag  src_bytes  dst_bytes  land  \\\n",
       "0         0           tcp    http   SF        181       5450     0   \n",
       "1         0           tcp    http   SF        239        486     0   \n",
       "2         0           tcp    http   SF        235       1337     0   \n",
       "3         0           tcp    http   SF        219       1337     0   \n",
       "4         0           tcp    http   SF        217       2032     0   \n",
       "\n",
       "   wrong_fragment  urgent  hot  ...  same_srv_rate  diff_srv_rate  \\\n",
       "0               0       0    0  ...            1.0            0.0   \n",
       "1               0       0    0  ...            1.0            0.0   \n",
       "2               0       0    0  ...            1.0            0.0   \n",
       "3               0       0    0  ...            1.0            0.0   \n",
       "4               0       0    0  ...            1.0            0.0   \n",
       "\n",
       "   srv_diff_host_rate  dst_host_count  dst_host_srv_count  \\\n",
       "0                 0.0               9                   9   \n",
       "1                 0.0              19                  19   \n",
       "2                 0.0              29                  29   \n",
       "3                 0.0              39                  39   \n",
       "4                 0.0              49                  49   \n",
       "\n",
       "   dst_host_diff_srv_rate  dst_host_same_src_port_rate  \\\n",
       "0                     0.0                         0.11   \n",
       "1                     0.0                         0.05   \n",
       "2                     0.0                         0.03   \n",
       "3                     0.0                         0.03   \n",
       "4                     0.0                         0.02   \n",
       "\n",
       "   dst_host_srv_diff_host_rate   target  Attack Type  \n",
       "0                          0.0  normal.       normal  \n",
       "1                          0.0  normal.       normal  \n",
       "2                          0.0  normal.       normal  \n",
       "3                          0.0  normal.       normal  \n",
       "4                          0.0  normal.       normal  \n",
       "\n",
       "[5 rows x 33 columns]"
      ]
     },
     "execution_count": 42,
     "metadata": {},
     "output_type": "execute_result"
    }
   ],
   "source": [
    "df.head()"
   ]
  },
  {
   "cell_type": "code",
   "execution_count": 43,
   "metadata": {
    "execution": {
     "iopub.execute_input": "2022-04-11T08:55:37.058634Z",
     "iopub.status.busy": "2022-04-11T08:55:37.057799Z",
     "iopub.status.idle": "2022-04-11T08:55:37.061930Z",
     "shell.execute_reply": "2022-04-11T08:55:37.061429Z",
     "shell.execute_reply.started": "2022-04-11T08:18:30.543247Z"
    },
    "papermill": {
     "duration": 0.106042,
     "end_time": "2022-04-11T08:55:37.062014",
     "exception": false,
     "start_time": "2022-04-11T08:55:36.955972",
     "status": "completed"
    },
    "tags": []
   },
   "outputs": [
    {
     "data": {
      "text/plain": [
       "(494021, 33)"
      ]
     },
     "execution_count": 43,
     "metadata": {},
     "output_type": "execute_result"
    }
   ],
   "source": [
    "df.shape"
   ]
  },
  {
   "cell_type": "code",
   "execution_count": 44,
   "metadata": {
    "execution": {
     "iopub.execute_input": "2022-04-11T08:55:37.261849Z",
     "iopub.status.busy": "2022-04-11T08:55:37.260929Z",
     "iopub.status.idle": "2022-04-11T08:55:37.265364Z",
     "shell.execute_reply": "2022-04-11T08:55:37.264899Z",
     "shell.execute_reply.started": "2022-04-11T08:18:30.553558Z"
    },
    "papermill": {
     "duration": 0.107729,
     "end_time": "2022-04-11T08:55:37.265453",
     "exception": false,
     "start_time": "2022-04-11T08:55:37.157724",
     "status": "completed"
    },
    "tags": []
   },
   "outputs": [
    {
     "data": {
      "text/plain": [
       "Index(['duration', 'protocol_type', 'service', 'flag', 'src_bytes',\n",
       "       'dst_bytes', 'land', 'wrong_fragment', 'urgent', 'hot',\n",
       "       'num_failed_logins', 'logged_in', 'num_compromised', 'root_shell',\n",
       "       'su_attempted', 'num_file_creations', 'num_shells', 'num_access_files',\n",
       "       'is_guest_login', 'count', 'srv_count', 'serror_rate', 'rerror_rate',\n",
       "       'same_srv_rate', 'diff_srv_rate', 'srv_diff_host_rate',\n",
       "       'dst_host_count', 'dst_host_srv_count', 'dst_host_diff_srv_rate',\n",
       "       'dst_host_same_src_port_rate', 'dst_host_srv_diff_host_rate', 'target',\n",
       "       'Attack Type'],\n",
       "      dtype='object')"
      ]
     },
     "execution_count": 44,
     "metadata": {},
     "output_type": "execute_result"
    }
   ],
   "source": [
    "df.columns"
   ]
  },
  {
   "cell_type": "code",
   "execution_count": 45,
   "metadata": {
    "execution": {
     "iopub.execute_input": "2022-04-11T08:55:37.807225Z",
     "iopub.status.busy": "2022-04-11T08:55:37.806107Z",
     "iopub.status.idle": "2022-04-11T08:55:40.593141Z",
     "shell.execute_reply": "2022-04-11T08:55:40.592711Z",
     "shell.execute_reply.started": "2022-04-11T08:18:30.564243Z"
    },
    "papermill": {
     "duration": 3.225879,
     "end_time": "2022-04-11T08:55:40.593239",
     "exception": false,
     "start_time": "2022-04-11T08:55:37.367360",
     "status": "completed"
    },
    "tags": []
   },
   "outputs": [
    {
     "data": {
      "text/plain": [
       "urgent                              0.005510\n",
       "land                                0.006673\n",
       "su_attempted                        0.007793\n",
       "root_shell                          0.010551\n",
       "num_shells                          0.011020\n",
       "num_failed_logins                   0.015520\n",
       "num_access_files                    0.036482\n",
       "is_guest_login                      0.037211\n",
       "dst_host_srv_diff_host_rate         0.042133\n",
       "diff_srv_rate                       0.082205\n",
       "num_file_creations                  0.096416\n",
       "dst_host_diff_srv_rate              0.109259\n",
       "wrong_fragment                      0.134805\n",
       "srv_diff_host_rate                  0.142397\n",
       "rerror_rate                         0.231623\n",
       "logged_in                           0.355345\n",
       "serror_rate                         0.380717\n",
       "same_srv_rate                       0.388189\n",
       "dst_host_same_src_port_rate         0.481309\n",
       "hot                                 0.782103\n",
       "num_compromised                     1.798326\n",
       "dst_host_count                     64.745380\n",
       "dst_host_srv_count                106.040437\n",
       "count                             213.147412\n",
       "srv_count                         246.322817\n",
       "duration                          707.746472\n",
       "dst_bytes                       33040.001252\n",
       "src_bytes                      988218.101045\n",
       "dtype: float64"
      ]
     },
     "execution_count": 45,
     "metadata": {},
     "output_type": "execute_result"
    }
   ],
   "source": [
    "df_std = df.std()\n",
    "df_std = df_std.sort_values(ascending = True)\n",
    "df_std"
   ]
  },
  {
   "cell_type": "markdown",
   "metadata": {
    "papermill": {
     "duration": 0.097308,
     "end_time": "2022-04-11T08:55:40.789092",
     "exception": false,
     "start_time": "2022-04-11T08:55:40.691784",
     "status": "completed"
    },
    "tags": []
   },
   "source": [
    "FEATURE MAPPING"
   ]
  },
  {
   "cell_type": "code",
   "execution_count": 46,
   "metadata": {
    "execution": {
     "iopub.execute_input": "2022-04-11T08:55:41.090706Z",
     "iopub.status.busy": "2022-04-11T08:55:41.089874Z",
     "iopub.status.idle": "2022-04-11T08:55:41.096780Z",
     "shell.execute_reply": "2022-04-11T08:55:41.096246Z",
     "shell.execute_reply.started": "2022-04-11T08:18:33.748212Z"
    },
    "papermill": {
     "duration": 0.209523,
     "end_time": "2022-04-11T08:55:41.096873",
     "exception": false,
     "start_time": "2022-04-11T08:55:40.887350",
     "status": "completed"
    },
    "tags": []
   },
   "outputs": [
    {
     "data": {
      "text/plain": [
       "icmp    283602\n",
       "tcp     190065\n",
       "udp      20354\n",
       "Name: protocol_type, dtype: int64"
      ]
     },
     "execution_count": 46,
     "metadata": {},
     "output_type": "execute_result"
    }
   ],
   "source": [
    "df['protocol_type'].value_counts()"
   ]
  },
  {
   "cell_type": "code",
   "execution_count": 47,
   "metadata": {
    "execution": {
     "iopub.execute_input": "2022-04-11T08:55:41.342568Z",
     "iopub.status.busy": "2022-04-11T08:55:41.341542Z",
     "iopub.status.idle": "2022-04-11T08:55:41.352366Z",
     "shell.execute_reply": "2022-04-11T08:55:41.351903Z",
     "shell.execute_reply.started": "2022-04-11T08:18:33.860786Z"
    },
    "papermill": {
     "duration": 0.158164,
     "end_time": "2022-04-11T08:55:41.352473",
     "exception": false,
     "start_time": "2022-04-11T08:55:41.194309",
     "status": "completed"
    },
    "tags": []
   },
   "outputs": [],
   "source": [
    "#protocol_type feature mapping\n",
    "pmap = {'icmp':0,'tcp':1,'udp':2}\n",
    "df['protocol_type'] = df['protocol_type'].map(pmap)"
   ]
  },
  {
   "cell_type": "code",
   "execution_count": 48,
   "metadata": {
    "execution": {
     "iopub.execute_input": "2022-04-11T08:55:41.651622Z",
     "iopub.status.busy": "2022-04-11T08:55:41.650983Z",
     "iopub.status.idle": "2022-04-11T08:55:41.658766Z",
     "shell.execute_reply": "2022-04-11T08:55:41.658267Z",
     "shell.execute_reply.started": "2022-04-11T08:18:33.924444Z"
    },
    "papermill": {
     "duration": 0.209136,
     "end_time": "2022-04-11T08:55:41.658857",
     "exception": false,
     "start_time": "2022-04-11T08:55:41.449721",
     "status": "completed"
    },
    "tags": []
   },
   "outputs": [
    {
     "data": {
      "text/plain": [
       "SF        378440\n",
       "S0         87007\n",
       "REJ        26875\n",
       "RSTR         903\n",
       "RSTO         579\n",
       "SH           107\n",
       "S1            57\n",
       "S2            24\n",
       "RSTOS0        11\n",
       "S3            10\n",
       "OTH            8\n",
       "Name: flag, dtype: int64"
      ]
     },
     "execution_count": 48,
     "metadata": {},
     "output_type": "execute_result"
    }
   ],
   "source": [
    "df['flag'].value_counts()"
   ]
  },
  {
   "cell_type": "code",
   "execution_count": 49,
   "metadata": {
    "execution": {
     "iopub.execute_input": "2022-04-11T08:55:41.919908Z",
     "iopub.status.busy": "2022-04-11T08:55:41.919064Z",
     "iopub.status.idle": "2022-04-11T08:55:41.995476Z",
     "shell.execute_reply": "2022-04-11T08:55:41.996457Z",
     "shell.execute_reply.started": "2022-04-11T08:18:34.036224Z"
    },
    "papermill": {
     "duration": 0.241174,
     "end_time": "2022-04-11T08:55:41.996634",
     "exception": false,
     "start_time": "2022-04-11T08:55:41.755460",
     "status": "completed"
    },
    "tags": []
   },
   "outputs": [],
   "source": [
    "#flag feature mapping\n",
    "fmap = {'SF':0,'S0':1,'REJ':2,'RSTR':3,'RSTO':4,'SH':5 ,'S1':6 ,'S2':7,'RSTOS0':8,'S3':9 ,'OTH':10}\n",
    "df['flag'] = df['flag'].map(fmap)"
   ]
  },
  {
   "cell_type": "code",
   "execution_count": 50,
   "metadata": {
    "execution": {
     "iopub.execute_input": "2022-04-11T08:55:42.343130Z",
     "iopub.status.busy": "2022-04-11T08:55:42.342361Z",
     "iopub.status.idle": "2022-04-11T08:55:42.367579Z",
     "shell.execute_reply": "2022-04-11T08:55:42.368641Z",
     "shell.execute_reply.started": "2022-04-11T08:18:34.102917Z"
    },
    "papermill": {
     "duration": 0.199998,
     "end_time": "2022-04-11T08:55:42.368927",
     "exception": false,
     "start_time": "2022-04-11T08:55:42.168929",
     "status": "completed"
    },
    "tags": []
   },
   "outputs": [
    {
     "data": {
      "text/html": [
       "<div>\n",
       "<style scoped>\n",
       "    .dataframe tbody tr th:only-of-type {\n",
       "        vertical-align: middle;\n",
       "    }\n",
       "\n",
       "    .dataframe tbody tr th {\n",
       "        vertical-align: top;\n",
       "    }\n",
       "\n",
       "    .dataframe thead th {\n",
       "        text-align: right;\n",
       "    }\n",
       "</style>\n",
       "<table border=\"1\" class=\"dataframe\">\n",
       "  <thead>\n",
       "    <tr style=\"text-align: right;\">\n",
       "      <th></th>\n",
       "      <th>duration</th>\n",
       "      <th>protocol_type</th>\n",
       "      <th>service</th>\n",
       "      <th>flag</th>\n",
       "      <th>src_bytes</th>\n",
       "      <th>dst_bytes</th>\n",
       "      <th>land</th>\n",
       "      <th>wrong_fragment</th>\n",
       "      <th>urgent</th>\n",
       "      <th>hot</th>\n",
       "      <th>...</th>\n",
       "      <th>same_srv_rate</th>\n",
       "      <th>diff_srv_rate</th>\n",
       "      <th>srv_diff_host_rate</th>\n",
       "      <th>dst_host_count</th>\n",
       "      <th>dst_host_srv_count</th>\n",
       "      <th>dst_host_diff_srv_rate</th>\n",
       "      <th>dst_host_same_src_port_rate</th>\n",
       "      <th>dst_host_srv_diff_host_rate</th>\n",
       "      <th>target</th>\n",
       "      <th>Attack Type</th>\n",
       "    </tr>\n",
       "  </thead>\n",
       "  <tbody>\n",
       "    <tr>\n",
       "      <th>0</th>\n",
       "      <td>0</td>\n",
       "      <td>1</td>\n",
       "      <td>http</td>\n",
       "      <td>0</td>\n",
       "      <td>181</td>\n",
       "      <td>5450</td>\n",
       "      <td>0</td>\n",
       "      <td>0</td>\n",
       "      <td>0</td>\n",
       "      <td>0</td>\n",
       "      <td>...</td>\n",
       "      <td>1.0</td>\n",
       "      <td>0.0</td>\n",
       "      <td>0.0</td>\n",
       "      <td>9</td>\n",
       "      <td>9</td>\n",
       "      <td>0.0</td>\n",
       "      <td>0.11</td>\n",
       "      <td>0.0</td>\n",
       "      <td>normal.</td>\n",
       "      <td>normal</td>\n",
       "    </tr>\n",
       "    <tr>\n",
       "      <th>1</th>\n",
       "      <td>0</td>\n",
       "      <td>1</td>\n",
       "      <td>http</td>\n",
       "      <td>0</td>\n",
       "      <td>239</td>\n",
       "      <td>486</td>\n",
       "      <td>0</td>\n",
       "      <td>0</td>\n",
       "      <td>0</td>\n",
       "      <td>0</td>\n",
       "      <td>...</td>\n",
       "      <td>1.0</td>\n",
       "      <td>0.0</td>\n",
       "      <td>0.0</td>\n",
       "      <td>19</td>\n",
       "      <td>19</td>\n",
       "      <td>0.0</td>\n",
       "      <td>0.05</td>\n",
       "      <td>0.0</td>\n",
       "      <td>normal.</td>\n",
       "      <td>normal</td>\n",
       "    </tr>\n",
       "    <tr>\n",
       "      <th>2</th>\n",
       "      <td>0</td>\n",
       "      <td>1</td>\n",
       "      <td>http</td>\n",
       "      <td>0</td>\n",
       "      <td>235</td>\n",
       "      <td>1337</td>\n",
       "      <td>0</td>\n",
       "      <td>0</td>\n",
       "      <td>0</td>\n",
       "      <td>0</td>\n",
       "      <td>...</td>\n",
       "      <td>1.0</td>\n",
       "      <td>0.0</td>\n",
       "      <td>0.0</td>\n",
       "      <td>29</td>\n",
       "      <td>29</td>\n",
       "      <td>0.0</td>\n",
       "      <td>0.03</td>\n",
       "      <td>0.0</td>\n",
       "      <td>normal.</td>\n",
       "      <td>normal</td>\n",
       "    </tr>\n",
       "    <tr>\n",
       "      <th>3</th>\n",
       "      <td>0</td>\n",
       "      <td>1</td>\n",
       "      <td>http</td>\n",
       "      <td>0</td>\n",
       "      <td>219</td>\n",
       "      <td>1337</td>\n",
       "      <td>0</td>\n",
       "      <td>0</td>\n",
       "      <td>0</td>\n",
       "      <td>0</td>\n",
       "      <td>...</td>\n",
       "      <td>1.0</td>\n",
       "      <td>0.0</td>\n",
       "      <td>0.0</td>\n",
       "      <td>39</td>\n",
       "      <td>39</td>\n",
       "      <td>0.0</td>\n",
       "      <td>0.03</td>\n",
       "      <td>0.0</td>\n",
       "      <td>normal.</td>\n",
       "      <td>normal</td>\n",
       "    </tr>\n",
       "    <tr>\n",
       "      <th>4</th>\n",
       "      <td>0</td>\n",
       "      <td>1</td>\n",
       "      <td>http</td>\n",
       "      <td>0</td>\n",
       "      <td>217</td>\n",
       "      <td>2032</td>\n",
       "      <td>0</td>\n",
       "      <td>0</td>\n",
       "      <td>0</td>\n",
       "      <td>0</td>\n",
       "      <td>...</td>\n",
       "      <td>1.0</td>\n",
       "      <td>0.0</td>\n",
       "      <td>0.0</td>\n",
       "      <td>49</td>\n",
       "      <td>49</td>\n",
       "      <td>0.0</td>\n",
       "      <td>0.02</td>\n",
       "      <td>0.0</td>\n",
       "      <td>normal.</td>\n",
       "      <td>normal</td>\n",
       "    </tr>\n",
       "  </tbody>\n",
       "</table>\n",
       "<p>5 rows × 33 columns</p>\n",
       "</div>"
      ],
      "text/plain": [
       "   duration  protocol_type service  flag  src_bytes  dst_bytes  land  \\\n",
       "0         0              1    http     0        181       5450     0   \n",
       "1         0              1    http     0        239        486     0   \n",
       "2         0              1    http     0        235       1337     0   \n",
       "3         0              1    http     0        219       1337     0   \n",
       "4         0              1    http     0        217       2032     0   \n",
       "\n",
       "   wrong_fragment  urgent  hot  ...  same_srv_rate  diff_srv_rate  \\\n",
       "0               0       0    0  ...            1.0            0.0   \n",
       "1               0       0    0  ...            1.0            0.0   \n",
       "2               0       0    0  ...            1.0            0.0   \n",
       "3               0       0    0  ...            1.0            0.0   \n",
       "4               0       0    0  ...            1.0            0.0   \n",
       "\n",
       "   srv_diff_host_rate  dst_host_count  dst_host_srv_count  \\\n",
       "0                 0.0               9                   9   \n",
       "1                 0.0              19                  19   \n",
       "2                 0.0              29                  29   \n",
       "3                 0.0              39                  39   \n",
       "4                 0.0              49                  49   \n",
       "\n",
       "   dst_host_diff_srv_rate  dst_host_same_src_port_rate  \\\n",
       "0                     0.0                         0.11   \n",
       "1                     0.0                         0.05   \n",
       "2                     0.0                         0.03   \n",
       "3                     0.0                         0.03   \n",
       "4                     0.0                         0.02   \n",
       "\n",
       "   dst_host_srv_diff_host_rate   target  Attack Type  \n",
       "0                          0.0  normal.       normal  \n",
       "1                          0.0  normal.       normal  \n",
       "2                          0.0  normal.       normal  \n",
       "3                          0.0  normal.       normal  \n",
       "4                          0.0  normal.       normal  \n",
       "\n",
       "[5 rows x 33 columns]"
      ]
     },
     "execution_count": 50,
     "metadata": {},
     "output_type": "execute_result"
    }
   ],
   "source": [
    "df.head()"
   ]
  },
  {
   "cell_type": "code",
   "execution_count": 51,
   "metadata": {
    "execution": {
     "iopub.execute_input": "2022-04-11T08:55:42.580147Z",
     "iopub.status.busy": "2022-04-11T08:55:42.579000Z",
     "iopub.status.idle": "2022-04-11T08:55:42.682998Z",
     "shell.execute_reply": "2022-04-11T08:55:42.682484Z",
     "shell.execute_reply.started": "2022-04-11T08:18:34.131600Z"
    },
    "papermill": {
     "duration": 0.207554,
     "end_time": "2022-04-11T08:55:42.683097",
     "exception": false,
     "start_time": "2022-04-11T08:55:42.475543",
     "status": "completed"
    },
    "tags": []
   },
   "outputs": [],
   "source": [
    "df.drop('service',axis = 1,inplace= True)"
   ]
  },
  {
   "cell_type": "code",
   "execution_count": 52,
   "metadata": {
    "execution": {
     "iopub.execute_input": "2022-04-11T08:55:42.885551Z",
     "iopub.status.busy": "2022-04-11T08:55:42.884975Z",
     "iopub.status.idle": "2022-04-11T08:55:42.890054Z",
     "shell.execute_reply": "2022-04-11T08:55:42.889612Z",
     "shell.execute_reply.started": "2022-04-11T08:18:34.239392Z"
    },
    "papermill": {
     "duration": 0.107195,
     "end_time": "2022-04-11T08:55:42.890143",
     "exception": false,
     "start_time": "2022-04-11T08:55:42.782948",
     "status": "completed"
    },
    "tags": []
   },
   "outputs": [
    {
     "data": {
      "text/plain": [
       "(494021, 32)"
      ]
     },
     "execution_count": 52,
     "metadata": {},
     "output_type": "execute_result"
    }
   ],
   "source": [
    "df.shape"
   ]
  },
  {
   "cell_type": "code",
   "execution_count": 53,
   "metadata": {
    "execution": {
     "iopub.execute_input": "2022-04-11T08:55:43.107605Z",
     "iopub.status.busy": "2022-04-11T08:55:43.106676Z",
     "iopub.status.idle": "2022-04-11T08:55:43.110861Z",
     "shell.execute_reply": "2022-04-11T08:55:43.110230Z",
     "shell.execute_reply.started": "2022-04-11T08:18:34.247980Z"
    },
    "papermill": {
     "duration": 0.121941,
     "end_time": "2022-04-11T08:55:43.110957",
     "exception": false,
     "start_time": "2022-04-11T08:55:42.989016",
     "status": "completed"
    },
    "tags": []
   },
   "outputs": [
    {
     "data": {
      "text/html": [
       "<div>\n",
       "<style scoped>\n",
       "    .dataframe tbody tr th:only-of-type {\n",
       "        vertical-align: middle;\n",
       "    }\n",
       "\n",
       "    .dataframe tbody tr th {\n",
       "        vertical-align: top;\n",
       "    }\n",
       "\n",
       "    .dataframe thead th {\n",
       "        text-align: right;\n",
       "    }\n",
       "</style>\n",
       "<table border=\"1\" class=\"dataframe\">\n",
       "  <thead>\n",
       "    <tr style=\"text-align: right;\">\n",
       "      <th></th>\n",
       "      <th>duration</th>\n",
       "      <th>protocol_type</th>\n",
       "      <th>flag</th>\n",
       "      <th>src_bytes</th>\n",
       "      <th>dst_bytes</th>\n",
       "      <th>land</th>\n",
       "      <th>wrong_fragment</th>\n",
       "      <th>urgent</th>\n",
       "      <th>hot</th>\n",
       "      <th>num_failed_logins</th>\n",
       "      <th>...</th>\n",
       "      <th>same_srv_rate</th>\n",
       "      <th>diff_srv_rate</th>\n",
       "      <th>srv_diff_host_rate</th>\n",
       "      <th>dst_host_count</th>\n",
       "      <th>dst_host_srv_count</th>\n",
       "      <th>dst_host_diff_srv_rate</th>\n",
       "      <th>dst_host_same_src_port_rate</th>\n",
       "      <th>dst_host_srv_diff_host_rate</th>\n",
       "      <th>target</th>\n",
       "      <th>Attack Type</th>\n",
       "    </tr>\n",
       "  </thead>\n",
       "  <tbody>\n",
       "    <tr>\n",
       "      <th>0</th>\n",
       "      <td>0</td>\n",
       "      <td>1</td>\n",
       "      <td>0</td>\n",
       "      <td>181</td>\n",
       "      <td>5450</td>\n",
       "      <td>0</td>\n",
       "      <td>0</td>\n",
       "      <td>0</td>\n",
       "      <td>0</td>\n",
       "      <td>0</td>\n",
       "      <td>...</td>\n",
       "      <td>1.0</td>\n",
       "      <td>0.0</td>\n",
       "      <td>0.0</td>\n",
       "      <td>9</td>\n",
       "      <td>9</td>\n",
       "      <td>0.0</td>\n",
       "      <td>0.11</td>\n",
       "      <td>0.0</td>\n",
       "      <td>normal.</td>\n",
       "      <td>normal</td>\n",
       "    </tr>\n",
       "    <tr>\n",
       "      <th>1</th>\n",
       "      <td>0</td>\n",
       "      <td>1</td>\n",
       "      <td>0</td>\n",
       "      <td>239</td>\n",
       "      <td>486</td>\n",
       "      <td>0</td>\n",
       "      <td>0</td>\n",
       "      <td>0</td>\n",
       "      <td>0</td>\n",
       "      <td>0</td>\n",
       "      <td>...</td>\n",
       "      <td>1.0</td>\n",
       "      <td>0.0</td>\n",
       "      <td>0.0</td>\n",
       "      <td>19</td>\n",
       "      <td>19</td>\n",
       "      <td>0.0</td>\n",
       "      <td>0.05</td>\n",
       "      <td>0.0</td>\n",
       "      <td>normal.</td>\n",
       "      <td>normal</td>\n",
       "    </tr>\n",
       "    <tr>\n",
       "      <th>2</th>\n",
       "      <td>0</td>\n",
       "      <td>1</td>\n",
       "      <td>0</td>\n",
       "      <td>235</td>\n",
       "      <td>1337</td>\n",
       "      <td>0</td>\n",
       "      <td>0</td>\n",
       "      <td>0</td>\n",
       "      <td>0</td>\n",
       "      <td>0</td>\n",
       "      <td>...</td>\n",
       "      <td>1.0</td>\n",
       "      <td>0.0</td>\n",
       "      <td>0.0</td>\n",
       "      <td>29</td>\n",
       "      <td>29</td>\n",
       "      <td>0.0</td>\n",
       "      <td>0.03</td>\n",
       "      <td>0.0</td>\n",
       "      <td>normal.</td>\n",
       "      <td>normal</td>\n",
       "    </tr>\n",
       "    <tr>\n",
       "      <th>3</th>\n",
       "      <td>0</td>\n",
       "      <td>1</td>\n",
       "      <td>0</td>\n",
       "      <td>219</td>\n",
       "      <td>1337</td>\n",
       "      <td>0</td>\n",
       "      <td>0</td>\n",
       "      <td>0</td>\n",
       "      <td>0</td>\n",
       "      <td>0</td>\n",
       "      <td>...</td>\n",
       "      <td>1.0</td>\n",
       "      <td>0.0</td>\n",
       "      <td>0.0</td>\n",
       "      <td>39</td>\n",
       "      <td>39</td>\n",
       "      <td>0.0</td>\n",
       "      <td>0.03</td>\n",
       "      <td>0.0</td>\n",
       "      <td>normal.</td>\n",
       "      <td>normal</td>\n",
       "    </tr>\n",
       "    <tr>\n",
       "      <th>4</th>\n",
       "      <td>0</td>\n",
       "      <td>1</td>\n",
       "      <td>0</td>\n",
       "      <td>217</td>\n",
       "      <td>2032</td>\n",
       "      <td>0</td>\n",
       "      <td>0</td>\n",
       "      <td>0</td>\n",
       "      <td>0</td>\n",
       "      <td>0</td>\n",
       "      <td>...</td>\n",
       "      <td>1.0</td>\n",
       "      <td>0.0</td>\n",
       "      <td>0.0</td>\n",
       "      <td>49</td>\n",
       "      <td>49</td>\n",
       "      <td>0.0</td>\n",
       "      <td>0.02</td>\n",
       "      <td>0.0</td>\n",
       "      <td>normal.</td>\n",
       "      <td>normal</td>\n",
       "    </tr>\n",
       "  </tbody>\n",
       "</table>\n",
       "<p>5 rows × 32 columns</p>\n",
       "</div>"
      ],
      "text/plain": [
       "   duration  protocol_type  flag  src_bytes  dst_bytes  land  wrong_fragment  \\\n",
       "0         0              1     0        181       5450     0               0   \n",
       "1         0              1     0        239        486     0               0   \n",
       "2         0              1     0        235       1337     0               0   \n",
       "3         0              1     0        219       1337     0               0   \n",
       "4         0              1     0        217       2032     0               0   \n",
       "\n",
       "   urgent  hot  num_failed_logins  ...  same_srv_rate  diff_srv_rate  \\\n",
       "0       0    0                  0  ...            1.0            0.0   \n",
       "1       0    0                  0  ...            1.0            0.0   \n",
       "2       0    0                  0  ...            1.0            0.0   \n",
       "3       0    0                  0  ...            1.0            0.0   \n",
       "4       0    0                  0  ...            1.0            0.0   \n",
       "\n",
       "   srv_diff_host_rate  dst_host_count  dst_host_srv_count  \\\n",
       "0                 0.0               9                   9   \n",
       "1                 0.0              19                  19   \n",
       "2                 0.0              29                  29   \n",
       "3                 0.0              39                  39   \n",
       "4                 0.0              49                  49   \n",
       "\n",
       "   dst_host_diff_srv_rate  dst_host_same_src_port_rate  \\\n",
       "0                     0.0                         0.11   \n",
       "1                     0.0                         0.05   \n",
       "2                     0.0                         0.03   \n",
       "3                     0.0                         0.03   \n",
       "4                     0.0                         0.02   \n",
       "\n",
       "   dst_host_srv_diff_host_rate   target  Attack Type  \n",
       "0                          0.0  normal.       normal  \n",
       "1                          0.0  normal.       normal  \n",
       "2                          0.0  normal.       normal  \n",
       "3                          0.0  normal.       normal  \n",
       "4                          0.0  normal.       normal  \n",
       "\n",
       "[5 rows x 32 columns]"
      ]
     },
     "execution_count": 53,
     "metadata": {},
     "output_type": "execute_result"
    }
   ],
   "source": [
    "df.head()"
   ]
  },
  {
   "cell_type": "code",
   "execution_count": 54,
   "metadata": {
    "execution": {
     "iopub.execute_input": "2022-04-11T08:55:43.322126Z",
     "iopub.status.busy": "2022-04-11T08:55:43.321298Z",
     "iopub.status.idle": "2022-04-11T08:55:43.325273Z",
     "shell.execute_reply": "2022-04-11T08:55:43.324819Z",
     "shell.execute_reply.started": "2022-04-11T08:18:34.277641Z"
    },
    "papermill": {
     "duration": 0.110766,
     "end_time": "2022-04-11T08:55:43.325379",
     "exception": false,
     "start_time": "2022-04-11T08:55:43.214613",
     "status": "completed"
    },
    "tags": []
   },
   "outputs": [
    {
     "data": {
      "text/plain": [
       "duration                         int64\n",
       "protocol_type                    int64\n",
       "flag                             int64\n",
       "src_bytes                        int64\n",
       "dst_bytes                        int64\n",
       "land                             int64\n",
       "wrong_fragment                   int64\n",
       "urgent                           int64\n",
       "hot                              int64\n",
       "num_failed_logins                int64\n",
       "logged_in                        int64\n",
       "num_compromised                  int64\n",
       "root_shell                       int64\n",
       "su_attempted                     int64\n",
       "num_file_creations               int64\n",
       "num_shells                       int64\n",
       "num_access_files                 int64\n",
       "is_guest_login                   int64\n",
       "count                            int64\n",
       "srv_count                        int64\n",
       "serror_rate                    float64\n",
       "rerror_rate                    float64\n",
       "same_srv_rate                  float64\n",
       "diff_srv_rate                  float64\n",
       "srv_diff_host_rate             float64\n",
       "dst_host_count                   int64\n",
       "dst_host_srv_count               int64\n",
       "dst_host_diff_srv_rate         float64\n",
       "dst_host_same_src_port_rate    float64\n",
       "dst_host_srv_diff_host_rate    float64\n",
       "target                          object\n",
       "Attack Type                     object\n",
       "dtype: object"
      ]
     },
     "execution_count": 54,
     "metadata": {},
     "output_type": "execute_result"
    }
   ],
   "source": [
    "df.dtypes"
   ]
  },
  {
   "cell_type": "markdown",
   "metadata": {
    "papermill": {
     "duration": 0.098609,
     "end_time": "2022-04-11T08:55:43.526574",
     "exception": false,
     "start_time": "2022-04-11T08:55:43.427965",
     "status": "completed"
    },
    "tags": []
   },
   "source": [
    "MODELLING"
   ]
  },
  {
   "cell_type": "code",
   "execution_count": 55,
   "metadata": {
    "execution": {
     "iopub.execute_input": "2022-04-11T08:55:43.730991Z",
     "iopub.status.busy": "2022-04-11T08:55:43.730261Z",
     "iopub.status.idle": "2022-04-11T08:55:43.820720Z",
     "shell.execute_reply": "2022-04-11T08:55:43.820206Z",
     "shell.execute_reply.started": "2022-04-11T08:18:34.289462Z"
    },
    "papermill": {
     "duration": 0.1939,
     "end_time": "2022-04-11T08:55:43.820828",
     "exception": false,
     "start_time": "2022-04-11T08:55:43.626928",
     "status": "completed"
    },
    "tags": []
   },
   "outputs": [],
   "source": [
    "from sklearn.model_selection import train_test_split\n",
    "from sklearn.preprocessing import MinMaxScaler\n",
    "from sklearn.metrics import accuracy_score"
   ]
  },
  {
   "cell_type": "code",
   "execution_count": 56,
   "metadata": {
    "execution": {
     "iopub.execute_input": "2022-04-11T08:55:44.066835Z",
     "iopub.status.busy": "2022-04-11T08:55:44.065877Z",
     "iopub.status.idle": "2022-04-11T08:55:44.496328Z",
     "shell.execute_reply": "2022-04-11T08:55:44.495847Z",
     "shell.execute_reply.started": "2022-04-11T08:18:34.385419Z"
    },
    "papermill": {
     "duration": 0.575086,
     "end_time": "2022-04-11T08:55:44.496443",
     "exception": false,
     "start_time": "2022-04-11T08:55:43.921357",
     "status": "completed"
    },
    "tags": []
   },
   "outputs": [
    {
     "name": "stdout",
     "output_type": "stream",
     "text": [
      "(494021, 31)\n",
      "(330994, 30) (163027, 30)\n",
      "(330994, 1) (163027, 1)\n"
     ]
    }
   ],
   "source": [
    "df = df.drop(['target',], axis=1)\n",
    "print(df.shape)\n",
    "\n",
    "# Target variable and train set\n",
    "Y = df[['Attack Type']]\n",
    "X = df.drop(['Attack Type',], axis=1)\n",
    "\n",
    "sc = MinMaxScaler()\n",
    "X = sc.fit_transform(X)\n",
    "\n",
    "# Split test and train data \n",
    "X_train, X_test, Y_train, Y_test = train_test_split(X, Y, test_size=0.33, random_state=42)\n",
    "print(X_train.shape, X_test.shape)\n",
    "print(Y_train.shape, Y_test.shape)"
   ]
  },
  {
   "cell_type": "markdown",
   "metadata": {
    "papermill": {
     "duration": 0.099029,
     "end_time": "2022-04-11T08:55:44.695164",
     "exception": false,
     "start_time": "2022-04-11T08:55:44.596135",
     "status": "completed"
    },
    "tags": []
   },
   "source": [
    "GAUSSIAN NAIVE BAYES"
   ]
  },
  {
   "cell_type": "code",
   "execution_count": 57,
   "metadata": {
    "execution": {
     "iopub.execute_input": "2022-04-11T08:55:44.906955Z",
     "iopub.status.busy": "2022-04-11T08:55:44.906201Z",
     "iopub.status.idle": "2022-04-11T08:55:44.915323Z",
     "shell.execute_reply": "2022-04-11T08:55:44.914841Z",
     "shell.execute_reply.started": "2022-04-11T08:18:34.878228Z"
    },
    "papermill": {
     "duration": 0.121311,
     "end_time": "2022-04-11T08:55:44.915440",
     "exception": false,
     "start_time": "2022-04-11T08:55:44.794129",
     "status": "completed"
    },
    "tags": []
   },
   "outputs": [],
   "source": [
    "# Gaussian Naive Bayes\n",
    "from sklearn.naive_bayes import GaussianNB"
   ]
  },
  {
   "cell_type": "code",
   "execution_count": 58,
   "metadata": {
    "execution": {
     "iopub.execute_input": "2022-04-11T08:55:45.146570Z",
     "iopub.status.busy": "2022-04-11T08:55:45.145816Z",
     "iopub.status.idle": "2022-04-11T08:55:45.148724Z",
     "shell.execute_reply": "2022-04-11T08:55:45.148233Z",
     "shell.execute_reply.started": "2022-04-11T08:18:34.887251Z"
    },
    "papermill": {
     "duration": 0.114769,
     "end_time": "2022-04-11T08:55:45.148819",
     "exception": false,
     "start_time": "2022-04-11T08:55:45.034050",
     "status": "completed"
    },
    "tags": []
   },
   "outputs": [],
   "source": [
    "model1 = GaussianNB()"
   ]
  },
  {
   "cell_type": "code",
   "execution_count": 59,
   "metadata": {
    "execution": {
     "iopub.execute_input": "2022-04-11T08:55:45.357509Z",
     "iopub.status.busy": "2022-04-11T08:55:45.356584Z",
     "iopub.status.idle": "2022-04-11T08:55:46.245345Z",
     "shell.execute_reply": "2022-04-11T08:55:46.244862Z",
     "shell.execute_reply.started": "2022-04-11T08:18:34.895209Z"
    },
    "papermill": {
     "duration": 0.993887,
     "end_time": "2022-04-11T08:55:46.245481",
     "exception": false,
     "start_time": "2022-04-11T08:55:45.251594",
     "status": "completed"
    },
    "tags": []
   },
   "outputs": [],
   "source": [
    "start_time = time.time()\n",
    "model1.fit(X_train, Y_train.values.ravel())\n",
    "end_time = time.time()"
   ]
  },
  {
   "cell_type": "code",
   "execution_count": 60,
   "metadata": {
    "execution": {
     "iopub.execute_input": "2022-04-11T08:55:46.451626Z",
     "iopub.status.busy": "2022-04-11T08:55:46.450857Z",
     "iopub.status.idle": "2022-04-11T08:55:46.454983Z",
     "shell.execute_reply": "2022-04-11T08:55:46.454537Z",
     "shell.execute_reply.started": "2022-04-11T08:18:35.790337Z"
    },
    "papermill": {
     "duration": 0.108392,
     "end_time": "2022-04-11T08:55:46.455071",
     "exception": false,
     "start_time": "2022-04-11T08:55:46.346679",
     "status": "completed"
    },
    "tags": []
   },
   "outputs": [
    {
     "name": "stdout",
     "output_type": "stream",
     "text": [
      "Training time:  0.8862862586975098\n"
     ]
    }
   ],
   "source": [
    "print(\"Training time: \",end_time-start_time)"
   ]
  },
  {
   "cell_type": "code",
   "execution_count": 61,
   "metadata": {
    "execution": {
     "iopub.execute_input": "2022-04-11T08:55:46.658565Z",
     "iopub.status.busy": "2022-04-11T08:55:46.657675Z",
     "iopub.status.idle": "2022-04-11T08:55:46.836922Z",
     "shell.execute_reply": "2022-04-11T08:55:46.836420Z",
     "shell.execute_reply.started": "2022-04-11T08:18:35.797516Z"
    },
    "papermill": {
     "duration": 0.282212,
     "end_time": "2022-04-11T08:55:46.837032",
     "exception": false,
     "start_time": "2022-04-11T08:55:46.554820",
     "status": "completed"
    },
    "tags": []
   },
   "outputs": [],
   "source": [
    "start_time = time.time()\n",
    "Y_test_pred1 = model1.predict(X_test)\n",
    "end_time = time.time()"
   ]
  },
  {
   "cell_type": "code",
   "execution_count": 62,
   "metadata": {
    "execution": {
     "iopub.execute_input": "2022-04-11T08:55:47.044077Z",
     "iopub.status.busy": "2022-04-11T08:55:47.043301Z",
     "iopub.status.idle": "2022-04-11T08:55:47.047190Z",
     "shell.execute_reply": "2022-04-11T08:55:47.046782Z",
     "shell.execute_reply.started": "2022-04-11T08:18:36.004509Z"
    },
    "papermill": {
     "duration": 0.108342,
     "end_time": "2022-04-11T08:55:47.047281",
     "exception": false,
     "start_time": "2022-04-11T08:55:46.938939",
     "status": "completed"
    },
    "tags": []
   },
   "outputs": [
    {
     "name": "stdout",
     "output_type": "stream",
     "text": [
      "Testing time:  0.17595386505126953\n"
     ]
    }
   ],
   "source": [
    "print(\"Testing time: \",end_time-start_time)"
   ]
  },
  {
   "cell_type": "code",
   "execution_count": 63,
   "metadata": {
    "execution": {
     "iopub.execute_input": "2022-04-11T08:55:47.253380Z",
     "iopub.status.busy": "2022-04-11T08:55:47.252457Z",
     "iopub.status.idle": "2022-04-11T08:55:48.400219Z",
     "shell.execute_reply": "2022-04-11T08:55:48.399525Z",
     "shell.execute_reply.started": "2022-04-11T08:18:36.012306Z"
    },
    "papermill": {
     "duration": 1.253103,
     "end_time": "2022-04-11T08:55:48.400377",
     "exception": false,
     "start_time": "2022-04-11T08:55:47.147274",
     "status": "completed"
    },
    "tags": []
   },
   "outputs": [
    {
     "name": "stdout",
     "output_type": "stream",
     "text": [
      "Train score is: 0.8795114110829804\n",
      "Test score is: 0.8790384414851528\n"
     ]
    }
   ],
   "source": [
    "print(\"Train score is:\", model1.score(X_train, Y_train))\n",
    "print(\"Test score is:\",model1.score(X_test,Y_test))"
   ]
  },
  {
   "cell_type": "markdown",
   "metadata": {
    "papermill": {
     "duration": 0.099995,
     "end_time": "2022-04-11T08:55:48.601430",
     "exception": false,
     "start_time": "2022-04-11T08:55:48.501435",
     "status": "completed"
    },
    "tags": []
   },
   "source": [
    "DECISION TREE"
   ]
  },
  {
   "cell_type": "code",
   "execution_count": 64,
   "metadata": {
    "execution": {
     "iopub.execute_input": "2022-04-11T08:55:48.804937Z",
     "iopub.status.busy": "2022-04-11T08:55:48.804272Z",
     "iopub.status.idle": "2022-04-11T08:55:48.934560Z",
     "shell.execute_reply": "2022-04-11T08:55:48.934046Z",
     "shell.execute_reply.started": "2022-04-11T08:18:37.369744Z"
    },
    "papermill": {
     "duration": 0.23361,
     "end_time": "2022-04-11T08:55:48.934663",
     "exception": false,
     "start_time": "2022-04-11T08:55:48.701053",
     "status": "completed"
    },
    "tags": []
   },
   "outputs": [],
   "source": [
    "#Decision Tree \n",
    "from sklearn.tree import DecisionTreeClassifier"
   ]
  },
  {
   "cell_type": "code",
   "execution_count": 65,
   "metadata": {
    "execution": {
     "iopub.execute_input": "2022-04-11T08:55:49.141456Z",
     "iopub.status.busy": "2022-04-11T08:55:49.140761Z",
     "iopub.status.idle": "2022-04-11T08:55:49.143764Z",
     "shell.execute_reply": "2022-04-11T08:55:49.143319Z",
     "shell.execute_reply.started": "2022-04-11T08:18:37.510795Z"
    },
    "papermill": {
     "duration": 0.107017,
     "end_time": "2022-04-11T08:55:49.143856",
     "exception": false,
     "start_time": "2022-04-11T08:55:49.036839",
     "status": "completed"
    },
    "tags": []
   },
   "outputs": [],
   "source": [
    "model2 = DecisionTreeClassifier(criterion=\"entropy\", max_depth = 4)"
   ]
  },
  {
   "cell_type": "code",
   "execution_count": 66,
   "metadata": {
    "execution": {
     "iopub.execute_input": "2022-04-11T08:55:49.349875Z",
     "iopub.status.busy": "2022-04-11T08:55:49.348848Z",
     "iopub.status.idle": "2022-04-11T08:55:50.474528Z",
     "shell.execute_reply": "2022-04-11T08:55:50.473475Z",
     "shell.execute_reply.started": "2022-04-11T08:18:37.519390Z"
    },
    "papermill": {
     "duration": 1.230452,
     "end_time": "2022-04-11T08:55:50.474644",
     "exception": false,
     "start_time": "2022-04-11T08:55:49.244192",
     "status": "completed"
    },
    "tags": []
   },
   "outputs": [],
   "source": [
    "start_time = time.time()\n",
    "model2.fit(X_train, Y_train.values.ravel())\n",
    "end_time = time.time()"
   ]
  },
  {
   "cell_type": "code",
   "execution_count": 67,
   "metadata": {
    "execution": {
     "iopub.execute_input": "2022-04-11T08:55:50.680741Z",
     "iopub.status.busy": "2022-04-11T08:55:50.679984Z",
     "iopub.status.idle": "2022-04-11T08:55:50.683205Z",
     "shell.execute_reply": "2022-04-11T08:55:50.684356Z",
     "shell.execute_reply.started": "2022-04-11T08:18:38.772807Z"
    },
    "papermill": {
     "duration": 0.109068,
     "end_time": "2022-04-11T08:55:50.684505",
     "exception": false,
     "start_time": "2022-04-11T08:55:50.575437",
     "status": "completed"
    },
    "tags": []
   },
   "outputs": [
    {
     "name": "stdout",
     "output_type": "stream",
     "text": [
      "Training time:  1.1226963996887207\n"
     ]
    }
   ],
   "source": [
    "print(\"Training time: \",end_time-start_time)"
   ]
  },
  {
   "cell_type": "code",
   "execution_count": 68,
   "metadata": {
    "execution": {
     "iopub.execute_input": "2022-04-11T08:55:50.894478Z",
     "iopub.status.busy": "2022-04-11T08:55:50.893424Z",
     "iopub.status.idle": "2022-04-11T08:55:50.913111Z",
     "shell.execute_reply": "2022-04-11T08:55:50.912519Z",
     "shell.execute_reply.started": "2022-04-11T08:18:38.797340Z"
    },
    "papermill": {
     "duration": 0.127018,
     "end_time": "2022-04-11T08:55:50.913206",
     "exception": false,
     "start_time": "2022-04-11T08:55:50.786188",
     "status": "completed"
    },
    "tags": []
   },
   "outputs": [],
   "source": [
    "start_time = time.time()\n",
    "Y_test_pred2 = model2.predict(X_test)\n",
    "end_time = time.time()"
   ]
  },
  {
   "cell_type": "code",
   "execution_count": 69,
   "metadata": {
    "execution": {
     "iopub.execute_input": "2022-04-11T08:55:51.131930Z",
     "iopub.status.busy": "2022-04-11T08:55:51.131151Z",
     "iopub.status.idle": "2022-04-11T08:55:51.135553Z",
     "shell.execute_reply": "2022-04-11T08:55:51.134840Z",
     "shell.execute_reply.started": "2022-04-11T08:18:38.832867Z"
    },
    "papermill": {
     "duration": 0.110544,
     "end_time": "2022-04-11T08:55:51.135672",
     "exception": false,
     "start_time": "2022-04-11T08:55:51.025128",
     "status": "completed"
    },
    "tags": []
   },
   "outputs": [
    {
     "name": "stdout",
     "output_type": "stream",
     "text": [
      "Testing time:  0.01740241050720215\n"
     ]
    }
   ],
   "source": [
    "print(\"Testing time: \",end_time-start_time)"
   ]
  },
  {
   "cell_type": "code",
   "execution_count": 70,
   "metadata": {
    "execution": {
     "iopub.execute_input": "2022-04-11T08:55:51.343000Z",
     "iopub.status.busy": "2022-04-11T08:55:51.342010Z",
     "iopub.status.idle": "2022-04-11T08:55:52.369284Z",
     "shell.execute_reply": "2022-04-11T08:55:52.368255Z",
     "shell.execute_reply.started": "2022-04-11T08:18:38.847925Z"
    },
    "papermill": {
     "duration": 1.132936,
     "end_time": "2022-04-11T08:55:52.370065",
     "exception": false,
     "start_time": "2022-04-11T08:55:51.237129",
     "status": "completed"
    },
    "tags": []
   },
   "outputs": [
    {
     "name": "stdout",
     "output_type": "stream",
     "text": [
      "Train score is: 0.9905829108684749\n",
      "Test score is: 0.9905230421954646\n"
     ]
    }
   ],
   "source": [
    "print(\"Train score is:\", model2.score(X_train, Y_train))\n",
    "print(\"Test score is:\",model2.score(X_test,Y_test))"
   ]
  },
  {
   "cell_type": "markdown",
   "metadata": {
    "papermill": {
     "duration": 0.101075,
     "end_time": "2022-04-11T08:55:52.575170",
     "exception": false,
     "start_time": "2022-04-11T08:55:52.474095",
     "status": "completed"
    },
    "tags": []
   },
   "source": [
    "RANDOM FOREST"
   ]
  },
  {
   "cell_type": "code",
   "execution_count": 71,
   "metadata": {
    "execution": {
     "iopub.execute_input": "2022-04-11T08:55:52.781185Z",
     "iopub.status.busy": "2022-04-11T08:55:52.780600Z",
     "iopub.status.idle": "2022-04-11T08:55:52.803230Z",
     "shell.execute_reply": "2022-04-11T08:55:52.802763Z",
     "shell.execute_reply.started": "2022-04-11T08:18:40.179162Z"
    },
    "papermill": {
     "duration": 0.127224,
     "end_time": "2022-04-11T08:55:52.803352",
     "exception": false,
     "start_time": "2022-04-11T08:55:52.676128",
     "status": "completed"
    },
    "tags": []
   },
   "outputs": [],
   "source": [
    "from sklearn.ensemble import RandomForestClassifier"
   ]
  },
  {
   "cell_type": "code",
   "execution_count": 72,
   "metadata": {
    "execution": {
     "iopub.execute_input": "2022-04-11T08:55:53.180093Z",
     "iopub.status.busy": "2022-04-11T08:55:53.179184Z",
     "iopub.status.idle": "2022-04-11T08:55:53.181599Z",
     "shell.execute_reply": "2022-04-11T08:55:53.180884Z",
     "shell.execute_reply.started": "2022-04-11T08:18:40.207545Z"
    },
    "papermill": {
     "duration": 0.203648,
     "end_time": "2022-04-11T08:55:53.181731",
     "exception": false,
     "start_time": "2022-04-11T08:55:52.978083",
     "status": "completed"
    },
    "tags": []
   },
   "outputs": [],
   "source": [
    "model3 = RandomForestClassifier(n_estimators=30)"
   ]
  },
  {
   "cell_type": "code",
   "execution_count": 73,
   "metadata": {
    "execution": {
     "iopub.execute_input": "2022-04-11T08:55:53.501950Z",
     "iopub.status.busy": "2022-04-11T08:55:53.500825Z",
     "iopub.status.idle": "2022-04-11T08:55:59.011271Z",
     "shell.execute_reply": "2022-04-11T08:55:59.010632Z",
     "shell.execute_reply.started": "2022-04-11T08:18:40.215186Z"
    },
    "papermill": {
     "duration": 5.660918,
     "end_time": "2022-04-11T08:55:59.011395",
     "exception": false,
     "start_time": "2022-04-11T08:55:53.350477",
     "status": "completed"
    },
    "tags": []
   },
   "outputs": [],
   "source": [
    "start_time = time.time()\n",
    "model3.fit(X_train, Y_train.values.ravel())\n",
    "end_time = time.time()"
   ]
  },
  {
   "cell_type": "code",
   "execution_count": 74,
   "metadata": {
    "execution": {
     "iopub.execute_input": "2022-04-11T08:55:59.234414Z",
     "iopub.status.busy": "2022-04-11T08:55:59.233670Z",
     "iopub.status.idle": "2022-04-11T08:55:59.238165Z",
     "shell.execute_reply": "2022-04-11T08:55:59.237640Z",
     "shell.execute_reply.started": "2022-04-11T08:18:45.449533Z"
    },
    "papermill": {
     "duration": 0.11747,
     "end_time": "2022-04-11T08:55:59.238254",
     "exception": false,
     "start_time": "2022-04-11T08:55:59.120784",
     "status": "completed"
    },
    "tags": []
   },
   "outputs": [
    {
     "name": "stdout",
     "output_type": "stream",
     "text": [
      "Training time:  5.5077805519104\n"
     ]
    }
   ],
   "source": [
    "print(\"Training time: \",end_time-start_time)"
   ]
  },
  {
   "cell_type": "code",
   "execution_count": 75,
   "metadata": {
    "execution": {
     "iopub.execute_input": "2022-04-11T08:55:59.459860Z",
     "iopub.status.busy": "2022-04-11T08:55:59.458848Z",
     "iopub.status.idle": "2022-04-11T08:55:59.817550Z",
     "shell.execute_reply": "2022-04-11T08:55:59.817016Z",
     "shell.execute_reply.started": "2022-04-11T08:18:45.457163Z"
    },
    "papermill": {
     "duration": 0.469561,
     "end_time": "2022-04-11T08:55:59.817662",
     "exception": false,
     "start_time": "2022-04-11T08:55:59.348101",
     "status": "completed"
    },
    "tags": []
   },
   "outputs": [],
   "source": [
    "start_time = time.time()\n",
    "Y_test_pred3 = model3.predict(X_test)\n",
    "end_time = time.time()"
   ]
  },
  {
   "cell_type": "code",
   "execution_count": 76,
   "metadata": {
    "execution": {
     "iopub.execute_input": "2022-04-11T08:56:00.032562Z",
     "iopub.status.busy": "2022-04-11T08:56:00.030090Z",
     "iopub.status.idle": "2022-04-11T08:56:00.035266Z",
     "shell.execute_reply": "2022-04-11T08:56:00.034608Z",
     "shell.execute_reply.started": "2022-04-11T08:18:45.845992Z"
    },
    "papermill": {
     "duration": 0.115014,
     "end_time": "2022-04-11T08:56:00.035407",
     "exception": false,
     "start_time": "2022-04-11T08:55:59.920393",
     "status": "completed"
    },
    "tags": []
   },
   "outputs": [
    {
     "name": "stdout",
     "output_type": "stream",
     "text": [
      "Testing time:  0.3558199405670166\n"
     ]
    }
   ],
   "source": [
    "print(\"Testing time: \",end_time-start_time)"
   ]
  },
  {
   "cell_type": "code",
   "execution_count": 77,
   "metadata": {
    "execution": {
     "iopub.execute_input": "2022-04-11T08:56:00.252366Z",
     "iopub.status.busy": "2022-04-11T08:56:00.249927Z",
     "iopub.status.idle": "2022-04-11T08:56:02.327004Z",
     "shell.execute_reply": "2022-04-11T08:56:02.326503Z",
     "shell.execute_reply.started": "2022-04-11T08:18:45.855390Z"
    },
    "papermill": {
     "duration": 2.185886,
     "end_time": "2022-04-11T08:56:02.327116",
     "exception": false,
     "start_time": "2022-04-11T08:56:00.141230",
     "status": "completed"
    },
    "tags": []
   },
   "outputs": [
    {
     "name": "stdout",
     "output_type": "stream",
     "text": [
      "Train score is: 0.99997583037759\n",
      "Test score is: 0.999662632570065\n"
     ]
    }
   ],
   "source": [
    "print(\"Train score is:\", model3.score(X_train, Y_train))\n",
    "print(\"Test score is:\",model3.score(X_test,Y_test))"
   ]
  },
  {
   "cell_type": "markdown",
   "metadata": {
    "papermill": {
     "duration": 0.104591,
     "end_time": "2022-04-11T08:56:02.547428",
     "exception": false,
     "start_time": "2022-04-11T08:56:02.442837",
     "status": "completed"
    },
    "tags": []
   },
   "source": [
    "SUPPORT VECTOR MACHINE"
   ]
  },
  {
   "cell_type": "code",
   "execution_count": 78,
   "metadata": {
    "execution": {
     "iopub.execute_input": "2022-04-11T08:56:02.777188Z",
     "iopub.status.busy": "2022-04-11T08:56:02.776227Z",
     "iopub.status.idle": "2022-04-11T08:56:02.778922Z",
     "shell.execute_reply": "2022-04-11T08:56:02.779359Z",
     "shell.execute_reply.started": "2022-04-11T08:18:48.142395Z"
    },
    "papermill": {
     "duration": 0.126564,
     "end_time": "2022-04-11T08:56:02.779489",
     "exception": false,
     "start_time": "2022-04-11T08:56:02.652925",
     "status": "completed"
    },
    "tags": []
   },
   "outputs": [],
   "source": [
    "from sklearn.svm import SVC"
   ]
  },
  {
   "cell_type": "code",
   "execution_count": 79,
   "metadata": {
    "execution": {
     "iopub.execute_input": "2022-04-11T08:56:03.010266Z",
     "iopub.status.busy": "2022-04-11T08:56:03.009300Z",
     "iopub.status.idle": "2022-04-11T08:56:03.011746Z",
     "shell.execute_reply": "2022-04-11T08:56:03.012180Z",
     "shell.execute_reply.started": "2022-04-11T08:18:48.149311Z"
    },
    "papermill": {
     "duration": 0.121121,
     "end_time": "2022-04-11T08:56:03.012317",
     "exception": false,
     "start_time": "2022-04-11T08:56:02.891196",
     "status": "completed"
    },
    "tags": []
   },
   "outputs": [],
   "source": [
    "model4 = SVC(gamma = 'scale')"
   ]
  },
  {
   "cell_type": "code",
   "execution_count": 80,
   "metadata": {
    "execution": {
     "iopub.execute_input": "2022-04-11T08:56:03.227368Z",
     "iopub.status.busy": "2022-04-11T08:56:03.226470Z",
     "iopub.status.idle": "2022-04-11T08:58:21.557008Z",
     "shell.execute_reply": "2022-04-11T08:58:21.556475Z",
     "shell.execute_reply.started": "2022-04-11T08:18:48.161005Z"
    },
    "papermill": {
     "duration": 138.437554,
     "end_time": "2022-04-11T08:58:21.557132",
     "exception": false,
     "start_time": "2022-04-11T08:56:03.119578",
     "status": "completed"
    },
    "tags": []
   },
   "outputs": [],
   "source": [
    "start_time = time.time()\n",
    "model4.fit(X_train, Y_train.values.ravel())\n",
    "end_time = time.time()"
   ]
  },
  {
   "cell_type": "code",
   "execution_count": 81,
   "metadata": {
    "execution": {
     "iopub.execute_input": "2022-04-11T08:58:21.769203Z",
     "iopub.status.busy": "2022-04-11T08:58:21.768544Z",
     "iopub.status.idle": "2022-04-11T08:58:21.772064Z",
     "shell.execute_reply": "2022-04-11T08:58:21.771632Z",
     "shell.execute_reply.started": "2022-04-11T08:21:09.007614Z"
    },
    "papermill": {
     "duration": 0.111302,
     "end_time": "2022-04-11T08:58:21.772152",
     "exception": false,
     "start_time": "2022-04-11T08:58:21.660850",
     "status": "completed"
    },
    "tags": []
   },
   "outputs": [
    {
     "name": "stdout",
     "output_type": "stream",
     "text": [
      "Training time:  138.32759618759155\n"
     ]
    }
   ],
   "source": [
    "print(\"Training time: \",end_time-start_time)"
   ]
  },
  {
   "cell_type": "code",
   "execution_count": 82,
   "metadata": {
    "execution": {
     "iopub.execute_input": "2022-04-11T08:58:21.983544Z",
     "iopub.status.busy": "2022-04-11T08:58:21.982622Z",
     "iopub.status.idle": "2022-04-11T08:59:04.137040Z",
     "shell.execute_reply": "2022-04-11T08:59:04.136558Z",
     "shell.execute_reply.started": "2022-04-11T08:21:09.015549Z"
    },
    "papermill": {
     "duration": 42.261312,
     "end_time": "2022-04-11T08:59:04.137151",
     "exception": false,
     "start_time": "2022-04-11T08:58:21.875839",
     "status": "completed"
    },
    "tags": []
   },
   "outputs": [],
   "source": [
    "start_time = time.time()\n",
    "Y_test_pred4 = model4.predict(X_test)\n",
    "end_time = time.time()"
   ]
  },
  {
   "cell_type": "code",
   "execution_count": 83,
   "metadata": {
    "execution": {
     "iopub.execute_input": "2022-04-11T08:59:04.351256Z",
     "iopub.status.busy": "2022-04-11T08:59:04.350139Z",
     "iopub.status.idle": "2022-04-11T08:59:04.353941Z",
     "shell.execute_reply": "2022-04-11T08:59:04.354581Z",
     "shell.execute_reply.started": "2022-04-11T08:21:48.999124Z"
    },
    "papermill": {
     "duration": 0.112466,
     "end_time": "2022-04-11T08:59:04.354726",
     "exception": false,
     "start_time": "2022-04-11T08:59:04.242260",
     "status": "completed"
    },
    "tags": []
   },
   "outputs": [
    {
     "name": "stdout",
     "output_type": "stream",
     "text": [
      "Testing time:  42.15164852142334\n"
     ]
    }
   ],
   "source": [
    "print(\"Testing time: \",end_time-start_time)"
   ]
  },
  {
   "cell_type": "code",
   "execution_count": 84,
   "metadata": {
    "execution": {
     "iopub.execute_input": "2022-04-11T08:59:04.571594Z",
     "iopub.status.busy": "2022-04-11T08:59:04.570703Z",
     "iopub.status.idle": "2022-04-11T09:01:13.568549Z",
     "shell.execute_reply": "2022-04-11T09:01:13.569009Z",
     "shell.execute_reply.started": "2022-04-11T08:21:49.006819Z"
    },
    "papermill": {
     "duration": 129.107046,
     "end_time": "2022-04-11T09:01:13.569148",
     "exception": false,
     "start_time": "2022-04-11T08:59:04.462102",
     "status": "completed"
    },
    "tags": []
   },
   "outputs": [
    {
     "name": "stdout",
     "output_type": "stream",
     "text": [
      "Train score is: 0.9987552644458811\n",
      "Test score is: 0.9987916112055059\n"
     ]
    }
   ],
   "source": [
    "print(\"Train score is:\", model4.score(X_train, Y_train))\n",
    "print(\"Test score is:\", model4.score(X_test,Y_test))"
   ]
  },
  {
   "cell_type": "markdown",
   "metadata": {
    "papermill": {
     "duration": 0.10442,
     "end_time": "2022-04-11T09:01:13.777414",
     "exception": false,
     "start_time": "2022-04-11T09:01:13.672994",
     "status": "completed"
    },
    "tags": []
   },
   "source": [
    "LOGISTIC REGRESSION"
   ]
  },
  {
   "cell_type": "code",
   "execution_count": 85,
   "metadata": {
    "execution": {
     "iopub.execute_input": "2022-04-11T09:01:13.995788Z",
     "iopub.status.busy": "2022-04-11T09:01:13.995041Z",
     "iopub.status.idle": "2022-04-11T09:01:13.999854Z",
     "shell.execute_reply": "2022-04-11T09:01:13.999409Z",
     "shell.execute_reply.started": "2022-04-11T08:23:52.554089Z"
    },
    "papermill": {
     "duration": 0.116357,
     "end_time": "2022-04-11T09:01:13.999951",
     "exception": false,
     "start_time": "2022-04-11T09:01:13.883594",
     "status": "completed"
    },
    "tags": []
   },
   "outputs": [],
   "source": [
    "from sklearn.linear_model import LogisticRegression"
   ]
  },
  {
   "cell_type": "code",
   "execution_count": 86,
   "metadata": {
    "execution": {
     "iopub.execute_input": "2022-04-11T09:01:14.221508Z",
     "iopub.status.busy": "2022-04-11T09:01:14.219728Z",
     "iopub.status.idle": "2022-04-11T09:01:14.222153Z",
     "shell.execute_reply": "2022-04-11T09:01:14.222598Z",
     "shell.execute_reply.started": "2022-04-11T08:23:52.560724Z"
    },
    "papermill": {
     "duration": 0.110656,
     "end_time": "2022-04-11T09:01:14.222709",
     "exception": false,
     "start_time": "2022-04-11T09:01:14.112053",
     "status": "completed"
    },
    "tags": []
   },
   "outputs": [],
   "source": [
    "model5 = LogisticRegression(max_iter=1200000)"
   ]
  },
  {
   "cell_type": "code",
   "execution_count": 87,
   "metadata": {
    "execution": {
     "iopub.execute_input": "2022-04-11T09:01:14.442027Z",
     "iopub.status.busy": "2022-04-11T09:01:14.441086Z",
     "iopub.status.idle": "2022-04-11T09:01:54.926674Z",
     "shell.execute_reply": "2022-04-11T09:01:54.927236Z",
     "shell.execute_reply.started": "2022-04-11T08:23:52.573462Z"
    },
    "papermill": {
     "duration": 40.600518,
     "end_time": "2022-04-11T09:01:54.927430",
     "exception": false,
     "start_time": "2022-04-11T09:01:14.326912",
     "status": "completed"
    },
    "tags": []
   },
   "outputs": [],
   "source": [
    "start_time = time.time()\n",
    "model5.fit(X_train, Y_train.values.ravel())\n",
    "end_time = time.time()"
   ]
  },
  {
   "cell_type": "code",
   "execution_count": 88,
   "metadata": {
    "execution": {
     "iopub.execute_input": "2022-04-11T09:01:55.141414Z",
     "iopub.status.busy": "2022-04-11T09:01:55.140704Z",
     "iopub.status.idle": "2022-04-11T09:01:55.144294Z",
     "shell.execute_reply": "2022-04-11T09:01:55.143789Z",
     "shell.execute_reply.started": "2022-04-11T08:24:33.579117Z"
    },
    "papermill": {
     "duration": 0.111483,
     "end_time": "2022-04-11T09:01:55.144398",
     "exception": false,
     "start_time": "2022-04-11T09:01:55.032915",
     "status": "completed"
    },
    "tags": []
   },
   "outputs": [
    {
     "name": "stdout",
     "output_type": "stream",
     "text": [
      "Training time:  40.48323941230774\n"
     ]
    }
   ],
   "source": [
    "print(\"Training time: \",end_time-start_time)"
   ]
  },
  {
   "cell_type": "code",
   "execution_count": 89,
   "metadata": {
    "execution": {
     "iopub.execute_input": "2022-04-11T09:01:55.361712Z",
     "iopub.status.busy": "2022-04-11T09:01:55.360741Z",
     "iopub.status.idle": "2022-04-11T09:01:55.379029Z",
     "shell.execute_reply": "2022-04-11T09:01:55.378598Z",
     "shell.execute_reply.started": "2022-04-11T08:24:33.585999Z"
    },
    "papermill": {
     "duration": 0.12999,
     "end_time": "2022-04-11T09:01:55.379127",
     "exception": false,
     "start_time": "2022-04-11T09:01:55.249137",
     "status": "completed"
    },
    "tags": []
   },
   "outputs": [],
   "source": [
    "start_time = time.time()\n",
    "Y_test_pred5 = model5.predict(X_test)\n",
    "end_time = time.time()"
   ]
  },
  {
   "cell_type": "code",
   "execution_count": 90,
   "metadata": {
    "execution": {
     "iopub.execute_input": "2022-04-11T09:01:55.593243Z",
     "iopub.status.busy": "2022-04-11T09:01:55.592518Z",
     "iopub.status.idle": "2022-04-11T09:01:55.596048Z",
     "shell.execute_reply": "2022-04-11T09:01:55.596442Z",
     "shell.execute_reply.started": "2022-04-11T08:24:33.612310Z"
    },
    "papermill": {
     "duration": 0.112343,
     "end_time": "2022-04-11T09:01:55.596557",
     "exception": false,
     "start_time": "2022-04-11T09:01:55.484214",
     "status": "completed"
    },
    "tags": []
   },
   "outputs": [
    {
     "name": "stdout",
     "output_type": "stream",
     "text": [
      "Testing time:  0.016182899475097656\n"
     ]
    }
   ],
   "source": [
    "print(\"Testing time: \",end_time-start_time)"
   ]
  },
  {
   "cell_type": "code",
   "execution_count": 91,
   "metadata": {
    "execution": {
     "iopub.execute_input": "2022-04-11T09:01:55.810295Z",
     "iopub.status.busy": "2022-04-11T09:01:55.809440Z",
     "iopub.status.idle": "2022-04-11T09:01:57.000030Z",
     "shell.execute_reply": "2022-04-11T09:01:56.999481Z",
     "shell.execute_reply.started": "2022-04-11T08:24:33.620136Z"
    },
    "papermill": {
     "duration": 1.299198,
     "end_time": "2022-04-11T09:01:57.000136",
     "exception": false,
     "start_time": "2022-04-11T09:01:55.700938",
     "status": "completed"
    },
    "tags": []
   },
   "outputs": [
    {
     "name": "stdout",
     "output_type": "stream",
     "text": [
      "Train score is: 0.9935285835997028\n",
      "Test score is: 0.9935286792985211\n"
     ]
    }
   ],
   "source": [
    "print(\"Train score is:\", model5.score(X_train, Y_train))\n",
    "print(\"Test score is:\",model5.score(X_test,Y_test))"
   ]
  },
  {
   "cell_type": "markdown",
   "metadata": {
    "papermill": {
     "duration": 0.10446,
     "end_time": "2022-04-11T09:01:57.210842",
     "exception": false,
     "start_time": "2022-04-11T09:01:57.106382",
     "status": "completed"
    },
    "tags": []
   },
   "source": [
    "GRADIENT BOOSTING CLASSIFIER"
   ]
  },
  {
   "cell_type": "code",
   "execution_count": 92,
   "metadata": {
    "execution": {
     "iopub.execute_input": "2022-04-11T09:01:57.525414Z",
     "iopub.status.busy": "2022-04-11T09:01:57.524274Z",
     "iopub.status.idle": "2022-04-11T09:01:57.527061Z",
     "shell.execute_reply": "2022-04-11T09:01:57.526240Z",
     "shell.execute_reply.started": "2022-04-11T08:24:34.609961Z"
    },
    "papermill": {
     "duration": 0.210804,
     "end_time": "2022-04-11T09:01:57.527204",
     "exception": false,
     "start_time": "2022-04-11T09:01:57.316400",
     "status": "completed"
    },
    "tags": []
   },
   "outputs": [],
   "source": [
    "from sklearn.ensemble import GradientBoostingClassifier"
   ]
  },
  {
   "cell_type": "code",
   "execution_count": 93,
   "metadata": {
    "execution": {
     "iopub.execute_input": "2022-04-11T09:01:57.903235Z",
     "iopub.status.busy": "2022-04-11T09:01:57.902367Z",
     "iopub.status.idle": "2022-04-11T09:01:57.904798Z",
     "shell.execute_reply": "2022-04-11T09:01:57.903968Z",
     "shell.execute_reply.started": "2022-04-11T08:24:34.618326Z"
    },
    "papermill": {
     "duration": 0.190276,
     "end_time": "2022-04-11T09:01:57.904938",
     "exception": false,
     "start_time": "2022-04-11T09:01:57.714662",
     "status": "completed"
    },
    "tags": []
   },
   "outputs": [],
   "source": [
    "model6 = GradientBoostingClassifier(random_state=0)"
   ]
  },
  {
   "cell_type": "code",
   "execution_count": 94,
   "metadata": {
    "execution": {
     "iopub.execute_input": "2022-04-11T09:01:58.271285Z",
     "iopub.status.busy": "2022-04-11T09:01:58.270491Z",
     "iopub.status.idle": "2022-04-11T09:06:19.797307Z",
     "shell.execute_reply": "2022-04-11T09:06:19.796060Z",
     "shell.execute_reply.started": "2022-04-11T08:24:34.625061Z"
    },
    "papermill": {
     "duration": 261.715551,
     "end_time": "2022-04-11T09:06:19.797478",
     "exception": false,
     "start_time": "2022-04-11T09:01:58.081927",
     "status": "completed"
    },
    "tags": []
   },
   "outputs": [],
   "source": [
    "start_time = time.time()\n",
    "model6.fit(X_train, Y_train.values.ravel())\n",
    "end_time = time.time()"
   ]
  },
  {
   "cell_type": "code",
   "execution_count": 95,
   "metadata": {
    "execution": {
     "iopub.execute_input": "2022-04-11T09:06:20.174367Z",
     "iopub.status.busy": "2022-04-11T09:06:20.173483Z",
     "iopub.status.idle": "2022-04-11T09:06:20.176357Z",
     "shell.execute_reply": "2022-04-11T09:06:20.176960Z",
     "shell.execute_reply.started": "2022-04-11T08:29:25.711645Z"
    },
    "papermill": {
     "duration": 0.182846,
     "end_time": "2022-04-11T09:06:20.177108",
     "exception": false,
     "start_time": "2022-04-11T09:06:19.994262",
     "status": "completed"
    },
    "tags": []
   },
   "outputs": [
    {
     "name": "stdout",
     "output_type": "stream",
     "text": [
      "Training time:  261.53095746040344\n"
     ]
    }
   ],
   "source": [
    "print(\"Training time: \",end_time-start_time)"
   ]
  },
  {
   "cell_type": "code",
   "execution_count": 96,
   "metadata": {
    "execution": {
     "iopub.execute_input": "2022-04-11T09:06:20.504482Z",
     "iopub.status.busy": "2022-04-11T09:06:20.503457Z",
     "iopub.status.idle": "2022-04-11T09:06:21.207045Z",
     "shell.execute_reply": "2022-04-11T09:06:21.205969Z",
     "shell.execute_reply.started": "2022-04-11T08:29:25.719575Z"
    },
    "papermill": {
     "duration": 0.851662,
     "end_time": "2022-04-11T09:06:21.207170",
     "exception": false,
     "start_time": "2022-04-11T09:06:20.355508",
     "status": "completed"
    },
    "tags": []
   },
   "outputs": [],
   "source": [
    "start_time = time.time()\n",
    "Y_test_pred6 = model6.predict(X_test)\n",
    "end_time = time.time()"
   ]
  },
  {
   "cell_type": "code",
   "execution_count": 97,
   "metadata": {
    "execution": {
     "iopub.execute_input": "2022-04-11T09:06:21.507737Z",
     "iopub.status.busy": "2022-04-11T09:06:21.506150Z",
     "iopub.status.idle": "2022-04-11T09:06:21.509820Z",
     "shell.execute_reply": "2022-04-11T09:06:21.507042Z",
     "shell.execute_reply.started": "2022-04-11T08:29:26.452047Z"
    },
    "papermill": {
     "duration": 0.184629,
     "end_time": "2022-04-11T09:06:21.509957",
     "exception": false,
     "start_time": "2022-04-11T09:06:21.325328",
     "status": "completed"
    },
    "tags": []
   },
   "outputs": [
    {
     "name": "stdout",
     "output_type": "stream",
     "text": [
      "Testing time:  0.7007386684417725\n"
     ]
    }
   ],
   "source": [
    "print(\"Testing time: \",end_time-start_time)"
   ]
  },
  {
   "cell_type": "code",
   "execution_count": 98,
   "metadata": {
    "execution": {
     "iopub.execute_input": "2022-04-11T09:06:21.898319Z",
     "iopub.status.busy": "2022-04-11T09:06:21.897490Z",
     "iopub.status.idle": "2022-04-11T09:06:25.724526Z",
     "shell.execute_reply": "2022-04-11T09:06:25.725140Z",
     "shell.execute_reply.started": "2022-04-11T08:29:26.459427Z"
    },
    "papermill": {
     "duration": 4.025993,
     "end_time": "2022-04-11T09:06:25.725306",
     "exception": false,
     "start_time": "2022-04-11T09:06:21.699313",
     "status": "completed"
    },
    "tags": []
   },
   "outputs": [
    {
     "name": "stdout",
     "output_type": "stream",
     "text": [
      "Train score is: 0.9979304760811374\n",
      "Test score is: 0.9977181693829856\n"
     ]
    }
   ],
   "source": [
    "print(\"Train score is:\", model6.score(X_train, Y_train))\n",
    "print(\"Test score is:\", model6.score(X_test,Y_test))"
   ]
  },
  {
   "cell_type": "markdown",
   "metadata": {
    "papermill": {
     "duration": 0.106971,
     "end_time": "2022-04-11T09:06:25.939988",
     "exception": false,
     "start_time": "2022-04-11T09:06:25.833017",
     "status": "completed"
    },
    "tags": []
   },
   "source": [
    "Artificial Neural Network"
   ]
  },
  {
   "cell_type": "code",
   "execution_count": 99,
   "metadata": {
    "execution": {
     "iopub.execute_input": "2022-04-11T09:06:26.158228Z",
     "iopub.status.busy": "2022-04-11T09:06:26.157570Z",
     "iopub.status.idle": "2022-04-11T09:06:26.211916Z",
     "shell.execute_reply": "2022-04-11T09:06:26.211231Z",
     "shell.execute_reply.started": "2022-04-11T08:29:30.566435Z"
    },
    "papermill": {
     "duration": 0.1653,
     "end_time": "2022-04-11T09:06:26.212040",
     "exception": false,
     "start_time": "2022-04-11T09:06:26.046740",
     "status": "completed"
    },
    "tags": []
   },
   "outputs": [
    {
     "name": "stderr",
     "output_type": "stream",
     "text": [
      "Using TensorFlow backend.\n"
     ]
    }
   ],
   "source": [
    "from keras.models import Sequential\n",
    "from keras.layers import Dense\n",
    "from keras.wrappers.scikit_learn import KerasClassifier"
   ]
  },
  {
   "cell_type": "code",
   "execution_count": 100,
   "metadata": {
    "execution": {
     "iopub.execute_input": "2022-04-11T09:06:26.433494Z",
     "iopub.status.busy": "2022-04-11T09:06:26.432907Z",
     "iopub.status.idle": "2022-04-11T09:06:26.436927Z",
     "shell.execute_reply": "2022-04-11T09:06:26.436497Z",
     "shell.execute_reply.started": "2022-04-11T08:29:30.762844Z"
    },
    "papermill": {
     "duration": 0.117825,
     "end_time": "2022-04-11T09:06:26.437009",
     "exception": false,
     "start_time": "2022-04-11T09:06:26.319184",
     "status": "completed"
    },
    "tags": []
   },
   "outputs": [],
   "source": [
    "def fun():\n",
    "    model = Sequential()\n",
    "    \n",
    "    #here 30 is output dimension\n",
    "    model.add(Dense(30,input_dim =30,activation = 'relu',kernel_initializer='random_uniform'))\n",
    "    \n",
    "    #in next layer we do not specify the input_dim as the model is sequential so output of previous layer is input to next layer\n",
    "    model.add(Dense(1,activation='sigmoid',kernel_initializer='random_uniform'))\n",
    "    \n",
    "    #5 classes-normal,dos,probe,r2l,u2r\n",
    "    model.add(Dense(5,activation='softmax'))\n",
    "    \n",
    "    #loss is categorical_crossentropy which specifies that we have multiple classes\n",
    "    \n",
    "    model.compile(loss ='categorical_crossentropy',optimizer = 'adam',metrics = ['accuracy'])\n",
    "    \n",
    "    return model"
   ]
  },
  {
   "cell_type": "code",
   "execution_count": 101,
   "metadata": {
    "execution": {
     "iopub.execute_input": "2022-04-11T09:06:26.654377Z",
     "iopub.status.busy": "2022-04-11T09:06:26.653526Z",
     "iopub.status.idle": "2022-04-11T09:06:26.655663Z",
     "shell.execute_reply": "2022-04-11T09:06:26.656045Z",
     "shell.execute_reply.started": "2022-04-11T08:29:30.771664Z"
    },
    "papermill": {
     "duration": 0.113224,
     "end_time": "2022-04-11T09:06:26.656156",
     "exception": false,
     "start_time": "2022-04-11T09:06:26.542932",
     "status": "completed"
    },
    "tags": []
   },
   "outputs": [],
   "source": [
    "#Since,the dataset is very big and we cannot fit complete data at once so we use batch size.\n",
    "#This divides our data into batches each of size equal to batch_size.\n",
    "#Now only this number of samples will be loaded into memory and processed. \n",
    "#Once we are done with one batch it is flushed from memory and the next batch will be processed.\n",
    "model7 = KerasClassifier(build_fn=fun,epochs=100,batch_size=64)"
   ]
  },
  {
   "cell_type": "code",
   "execution_count": 102,
   "metadata": {
    "execution": {
     "iopub.execute_input": "2022-04-11T09:06:26.873259Z",
     "iopub.status.busy": "2022-04-11T09:06:26.872330Z",
     "iopub.status.idle": "2022-04-11T09:26:01.042577Z",
     "shell.execute_reply": "2022-04-11T09:26:01.041981Z",
     "shell.execute_reply.started": "2022-04-11T08:29:30.785950Z"
    },
    "papermill": {
     "duration": 1174.28065,
     "end_time": "2022-04-11T09:26:01.042684",
     "exception": false,
     "start_time": "2022-04-11T09:06:26.762034",
     "status": "completed"
    },
    "tags": []
   },
   "outputs": [
    {
     "name": "stdout",
     "output_type": "stream",
     "text": [
      "Epoch 1/100\n",
      "5172/5172 [==============================] - 12s 2ms/step - loss: 0.3283 - accuracy: 0.9226\n",
      "Epoch 2/100\n",
      "5172/5172 [==============================] - 11s 2ms/step - loss: 0.0832 - accuracy: 0.9845\n",
      "Epoch 3/100\n",
      "5172/5172 [==============================] - 12s 2ms/step - loss: 0.0711 - accuracy: 0.9846\n",
      "Epoch 4/100\n",
      "5172/5172 [==============================] - 11s 2ms/step - loss: 0.0679 - accuracy: 0.9846\n",
      "Epoch 5/100\n",
      "5172/5172 [==============================] - 12s 2ms/step - loss: 0.0641 - accuracy: 0.9846\n",
      "Epoch 6/100\n",
      "5172/5172 [==============================] - 12s 2ms/step - loss: 0.0606 - accuracy: 0.9846\n",
      "Epoch 7/100\n",
      "5172/5172 [==============================] - 11s 2ms/step - loss: 0.0580 - accuracy: 0.9847\n",
      "Epoch 8/100\n",
      "5172/5172 [==============================] - 12s 2ms/step - loss: 0.0565 - accuracy: 0.9847\n",
      "Epoch 9/100\n",
      "5172/5172 [==============================] - 11s 2ms/step - loss: 0.0553 - accuracy: 0.9847\n",
      "Epoch 10/100\n",
      "5172/5172 [==============================] - 11s 2ms/step - loss: 0.0544 - accuracy: 0.9847\n",
      "Epoch 11/100\n",
      "5172/5172 [==============================] - 12s 2ms/step - loss: 0.0536 - accuracy: 0.9847\n",
      "Epoch 12/100\n",
      "5172/5172 [==============================] - 11s 2ms/step - loss: 0.0530 - accuracy: 0.9847\n",
      "Epoch 13/100\n",
      "5172/5172 [==============================] - 11s 2ms/step - loss: 0.0524 - accuracy: 0.9849\n",
      "Epoch 14/100\n",
      "5172/5172 [==============================] - 12s 2ms/step - loss: 0.0521 - accuracy: 0.9851\n",
      "Epoch 15/100\n",
      "5172/5172 [==============================] - 11s 2ms/step - loss: 0.0517 - accuracy: 0.9855\n",
      "Epoch 16/100\n",
      "5172/5172 [==============================] - 11s 2ms/step - loss: 0.0513 - accuracy: 0.9858\n",
      "Epoch 17/100\n",
      "5172/5172 [==============================] - 12s 2ms/step - loss: 0.0511 - accuracy: 0.9861\n",
      "Epoch 18/100\n",
      "5172/5172 [==============================] - 11s 2ms/step - loss: 0.0508 - accuracy: 0.9863\n",
      "Epoch 19/100\n",
      "5172/5172 [==============================] - 11s 2ms/step - loss: 0.0506 - accuracy: 0.9864\n",
      "Epoch 20/100\n",
      "5172/5172 [==============================] - 13s 2ms/step - loss: 0.0504 - accuracy: 0.9869\n",
      "Epoch 21/100\n",
      "5172/5172 [==============================] - 11s 2ms/step - loss: 0.0503 - accuracy: 0.9872\n",
      "Epoch 22/100\n",
      "5172/5172 [==============================] - 11s 2ms/step - loss: 0.0501 - accuracy: 0.9873\n",
      "Epoch 23/100\n",
      "5172/5172 [==============================] - 12s 2ms/step - loss: 0.0500 - accuracy: 0.9878\n",
      "Epoch 24/100\n",
      "5172/5172 [==============================] - 11s 2ms/step - loss: 0.0498 - accuracy: 0.9884\n",
      "Epoch 25/100\n",
      "5172/5172 [==============================] - 12s 2ms/step - loss: 0.0497 - accuracy: 0.9881\n",
      "Epoch 26/100\n",
      "5172/5172 [==============================] - 12s 2ms/step - loss: 0.0495 - accuracy: 0.9889\n",
      "Epoch 27/100\n",
      "5172/5172 [==============================] - 11s 2ms/step - loss: 0.0494 - accuracy: 0.9890\n",
      "Epoch 28/100\n",
      "5172/5172 [==============================] - 12s 2ms/step - loss: 0.0493 - accuracy: 0.9896\n",
      "Epoch 29/100\n",
      "5172/5172 [==============================] - 12s 2ms/step - loss: 0.0491 - accuracy: 0.9899\n",
      "Epoch 30/100\n",
      "5172/5172 [==============================] - 11s 2ms/step - loss: 0.0490 - accuracy: 0.9896\n",
      "Epoch 31/100\n",
      "5172/5172 [==============================] - 12s 2ms/step - loss: 0.0489 - accuracy: 0.9907\n",
      "Epoch 32/100\n",
      "5172/5172 [==============================] - 12s 2ms/step - loss: 0.0486 - accuracy: 0.9897\n",
      "Epoch 33/100\n",
      "5172/5172 [==============================] - 11s 2ms/step - loss: 0.0433 - accuracy: 0.9892\n",
      "Epoch 34/100\n",
      "5172/5172 [==============================] - 13s 2ms/step - loss: 0.0280 - accuracy: 0.9935\n",
      "Epoch 35/100\n",
      "5172/5172 [==============================] - 11s 2ms/step - loss: 0.0195 - accuracy: 0.9963\n",
      "Epoch 36/100\n",
      "5172/5172 [==============================] - 12s 2ms/step - loss: 0.0170 - accuracy: 0.9963\n",
      "Epoch 37/100\n",
      "5172/5172 [==============================] - 13s 2ms/step - loss: 0.0160 - accuracy: 0.9964\n",
      "Epoch 38/100\n",
      "5172/5172 [==============================] - 11s 2ms/step - loss: 0.0156 - accuracy: 0.9965\n",
      "Epoch 39/100\n",
      "5172/5172 [==============================] - 11s 2ms/step - loss: 0.0152 - accuracy: 0.9965\n",
      "Epoch 40/100\n",
      "5172/5172 [==============================] - 12s 2ms/step - loss: 0.0148 - accuracy: 0.9966\n",
      "Epoch 41/100\n",
      "5172/5172 [==============================] - 12s 2ms/step - loss: 0.0146 - accuracy: 0.9965\n",
      "Epoch 42/100\n",
      "5172/5172 [==============================] - 11s 2ms/step - loss: 0.0143 - accuracy: 0.9966\n",
      "Epoch 43/100\n",
      "5172/5172 [==============================] - 11s 2ms/step - loss: 0.0132 - accuracy: 0.9966\n",
      "Epoch 44/100\n",
      "5172/5172 [==============================] - 13s 2ms/step - loss: 0.0126 - accuracy: 0.9967\n",
      "Epoch 45/100\n",
      "5172/5172 [==============================] - 11s 2ms/step - loss: 0.0122 - accuracy: 0.9968\n",
      "Epoch 46/100\n",
      "5172/5172 [==============================] - 11s 2ms/step - loss: 0.0119 - accuracy: 0.9968\n",
      "Epoch 47/100\n",
      "5172/5172 [==============================] - 13s 3ms/step - loss: 0.0118 - accuracy: 0.9968\n",
      "Epoch 48/100\n",
      "5172/5172 [==============================] - 11s 2ms/step - loss: 0.0116 - accuracy: 0.9968\n",
      "Epoch 49/100\n",
      "5172/5172 [==============================] - 11s 2ms/step - loss: 0.0114 - accuracy: 0.9968\n",
      "Epoch 50/100\n",
      "5172/5172 [==============================] - 12s 2ms/step - loss: 0.0113 - accuracy: 0.9968\n",
      "Epoch 51/100\n",
      "5172/5172 [==============================] - 11s 2ms/step - loss: 0.0111 - accuracy: 0.9968\n",
      "Epoch 52/100\n",
      "5172/5172 [==============================] - 12s 2ms/step - loss: 0.0109 - accuracy: 0.9968\n",
      "Epoch 53/100\n",
      "5172/5172 [==============================] - 13s 3ms/step - loss: 0.0108 - accuracy: 0.9969\n",
      "Epoch 54/100\n",
      "5172/5172 [==============================] - 11s 2ms/step - loss: 0.0107 - accuracy: 0.9969\n",
      "Epoch 55/100\n",
      "5172/5172 [==============================] - 11s 2ms/step - loss: 0.0105 - accuracy: 0.9969\n",
      "Epoch 56/100\n",
      "5172/5172 [==============================] - 12s 2ms/step - loss: 0.0103 - accuracy: 0.9970\n",
      "Epoch 57/100\n",
      "5172/5172 [==============================] - 11s 2ms/step - loss: 0.0100 - accuracy: 0.9970\n",
      "Epoch 58/100\n",
      "5172/5172 [==============================] - 12s 2ms/step - loss: 0.0099 - accuracy: 0.9972\n",
      "Epoch 59/100\n",
      "5172/5172 [==============================] - 13s 2ms/step - loss: 0.0098 - accuracy: 0.9972\n",
      "Epoch 60/100\n",
      "5172/5172 [==============================] - 11s 2ms/step - loss: 0.0097 - accuracy: 0.9972\n",
      "Epoch 61/100\n",
      "5172/5172 [==============================] - 12s 2ms/step - loss: 0.0095 - accuracy: 0.9975\n",
      "Epoch 62/100\n",
      "5172/5172 [==============================] - 11s 2ms/step - loss: 0.0094 - accuracy: 0.9975\n",
      "Epoch 63/100\n",
      "5172/5172 [==============================] - 11s 2ms/step - loss: 0.0093 - accuracy: 0.9976\n",
      "Epoch 64/100\n",
      "5172/5172 [==============================] - 13s 3ms/step - loss: 0.0092 - accuracy: 0.9980\n",
      "Epoch 65/100\n",
      "5172/5172 [==============================] - 12s 2ms/step - loss: 0.0091 - accuracy: 0.9979\n",
      "Epoch 66/100\n",
      "5172/5172 [==============================] - 11s 2ms/step - loss: 0.0090 - accuracy: 0.9980\n",
      "Epoch 67/100\n",
      "5172/5172 [==============================] - 12s 2ms/step - loss: 0.0089 - accuracy: 0.9980\n",
      "Epoch 68/100\n",
      "5172/5172 [==============================] - 11s 2ms/step - loss: 0.0089 - accuracy: 0.9982\n",
      "Epoch 69/100\n",
      "5172/5172 [==============================] - 11s 2ms/step - loss: 0.0087 - accuracy: 0.9984\n",
      "Epoch 70/100\n",
      "5172/5172 [==============================] - 13s 2ms/step - loss: 0.0088 - accuracy: 0.9982\n",
      "Epoch 71/100\n",
      "5172/5172 [==============================] - 13s 2ms/step - loss: 0.0086 - accuracy: 0.9984\n",
      "Epoch 72/100\n",
      "5172/5172 [==============================] - 11s 2ms/step - loss: 0.0087 - accuracy: 0.9984\n",
      "Epoch 73/100\n",
      "5172/5172 [==============================] - 11s 2ms/step - loss: 0.0086 - accuracy: 0.9985\n",
      "Epoch 74/100\n",
      "5172/5172 [==============================] - 11s 2ms/step - loss: 0.0085 - accuracy: 0.9984\n",
      "Epoch 75/100\n",
      "5172/5172 [==============================] - 11s 2ms/step - loss: 0.0084 - accuracy: 0.9985\n",
      "Epoch 76/100\n",
      "5172/5172 [==============================] - 12s 2ms/step - loss: 0.0085 - accuracy: 0.9987\n",
      "Epoch 77/100\n",
      "5172/5172 [==============================] - 13s 2ms/step - loss: 0.0084 - accuracy: 0.9986\n",
      "Epoch 78/100\n",
      "5172/5172 [==============================] - 12s 2ms/step - loss: 0.0083 - accuracy: 0.9984\n",
      "Epoch 79/100\n",
      "5172/5172 [==============================] - 11s 2ms/step - loss: 0.0083 - accuracy: 0.9986\n",
      "Epoch 80/100\n",
      "5172/5172 [==============================] - 11s 2ms/step - loss: 0.0083 - accuracy: 0.9986\n",
      "Epoch 81/100\n",
      "5172/5172 [==============================] - 12s 2ms/step - loss: 0.0082 - accuracy: 0.9987\n",
      "Epoch 82/100\n",
      "5172/5172 [==============================] - 12s 2ms/step - loss: 0.0082 - accuracy: 0.9986\n",
      "Epoch 83/100\n",
      "5172/5172 [==============================] - 14s 3ms/step - loss: 0.0081 - accuracy: 0.9986\n",
      "Epoch 84/100\n",
      "5172/5172 [==============================] - 12s 2ms/step - loss: 0.0081 - accuracy: 0.9987\n",
      "Epoch 85/100\n",
      "5172/5172 [==============================] - 11s 2ms/step - loss: 0.0081 - accuracy: 0.9987\n",
      "Epoch 86/100\n",
      "5172/5172 [==============================] - 12s 2ms/step - loss: 0.0080 - accuracy: 0.9987\n",
      "Epoch 87/100\n",
      "5172/5172 [==============================] - 11s 2ms/step - loss: 0.0081 - accuracy: 0.9986\n",
      "Epoch 88/100\n",
      "5172/5172 [==============================] - 12s 2ms/step - loss: 0.0079 - accuracy: 0.9987\n",
      "Epoch 89/100\n",
      "5172/5172 [==============================] - 14s 3ms/step - loss: 0.0080 - accuracy: 0.9987\n",
      "Epoch 90/100\n",
      "5172/5172 [==============================] - 11s 2ms/step - loss: 0.0079 - accuracy: 0.9987\n",
      "Epoch 91/100\n",
      "5172/5172 [==============================] - 11s 2ms/step - loss: 0.0079 - accuracy: 0.9987\n",
      "Epoch 92/100\n",
      "5172/5172 [==============================] - 11s 2ms/step - loss: 0.0078 - accuracy: 0.9988\n",
      "Epoch 93/100\n",
      "5172/5172 [==============================] - 11s 2ms/step - loss: 0.0079 - accuracy: 0.9988\n",
      "Epoch 94/100\n",
      "5172/5172 [==============================] - 11s 2ms/step - loss: 0.0078 - accuracy: 0.9987\n",
      "Epoch 95/100\n",
      "5172/5172 [==============================] - 15s 3ms/step - loss: 0.0076 - accuracy: 0.9987\n",
      "Epoch 96/100\n",
      "5172/5172 [==============================] - 12s 2ms/step - loss: 0.0077 - accuracy: 0.9987\n",
      "Epoch 97/100\n",
      "5172/5172 [==============================] - 11s 2ms/step - loss: 0.0076 - accuracy: 0.9988\n",
      "Epoch 98/100\n",
      "5172/5172 [==============================] - 11s 2ms/step - loss: 0.0076 - accuracy: 0.9988\n",
      "Epoch 99/100\n",
      "5172/5172 [==============================] - 11s 2ms/step - loss: 0.0076 - accuracy: 0.9987\n",
      "Epoch 100/100\n",
      "5172/5172 [==============================] - 11s 2ms/step - loss: 0.0076 - accuracy: 0.9988\n"
     ]
    }
   ],
   "source": [
    "start = time.time()\n",
    "model7.fit(X_train, Y_train.values.ravel())\n",
    "end = time.time()"
   ]
  },
  {
   "cell_type": "code",
   "execution_count": 103,
   "metadata": {
    "execution": {
     "iopub.execute_input": "2022-04-11T09:26:14.342926Z",
     "iopub.status.busy": "2022-04-11T09:26:14.341066Z",
     "iopub.status.idle": "2022-04-11T09:26:14.345594Z",
     "shell.execute_reply": "2022-04-11T09:26:14.344941Z",
     "shell.execute_reply.started": "2022-04-11T08:48:15.659887Z"
    },
    "papermill": {
     "duration": 6.756912,
     "end_time": "2022-04-11T09:26:14.345719",
     "exception": false,
     "start_time": "2022-04-11T09:26:07.588807",
     "status": "completed"
    },
    "tags": []
   },
   "outputs": [
    {
     "name": "stdout",
     "output_type": "stream",
     "text": [
      "Training time\n",
      "1174.1681022644043\n"
     ]
    }
   ],
   "source": [
    "print('Training time')\n",
    "print((end-start))"
   ]
  },
  {
   "cell_type": "code",
   "execution_count": 104,
   "metadata": {
    "execution": {
     "iopub.execute_input": "2022-04-11T09:26:27.507666Z",
     "iopub.status.busy": "2022-04-11T09:26:27.506675Z",
     "iopub.status.idle": "2022-04-11T09:26:29.210205Z",
     "shell.execute_reply": "2022-04-11T09:26:29.210946Z",
     "shell.execute_reply.started": "2022-04-11T08:48:15.667301Z"
    },
    "papermill": {
     "duration": 8.095512,
     "end_time": "2022-04-11T09:26:29.211145",
     "exception": false,
     "start_time": "2022-04-11T09:26:21.115633",
     "status": "completed"
    },
    "tags": []
   },
   "outputs": [],
   "source": [
    "start_time = time.time()\n",
    "Y_test_pred7 = model7.predict(X_test)\n",
    "end_time = time.time()"
   ]
  },
  {
   "cell_type": "code",
   "execution_count": 105,
   "metadata": {
    "execution": {
     "iopub.execute_input": "2022-04-11T09:26:43.145268Z",
     "iopub.status.busy": "2022-04-11T09:26:43.144595Z",
     "iopub.status.idle": "2022-04-11T09:26:43.147936Z",
     "shell.execute_reply": "2022-04-11T09:26:43.148560Z",
     "shell.execute_reply.started": "2022-04-11T08:48:17.267648Z"
    },
    "papermill": {
     "duration": 6.765012,
     "end_time": "2022-04-11T09:26:43.148718",
     "exception": false,
     "start_time": "2022-04-11T09:26:36.383706",
     "status": "completed"
    },
    "tags": []
   },
   "outputs": [
    {
     "name": "stdout",
     "output_type": "stream",
     "text": [
      "Testing time:  1.7013006210327148\n"
     ]
    }
   ],
   "source": [
    "print(\"Testing time: \",end_time-start_time)"
   ]
  },
  {
   "cell_type": "code",
   "execution_count": 106,
   "metadata": {
    "execution": {
     "iopub.execute_input": "2022-04-11T09:26:56.652218Z",
     "iopub.status.busy": "2022-04-11T09:26:56.651144Z",
     "iopub.status.idle": "2022-04-11T09:26:59.689044Z",
     "shell.execute_reply": "2022-04-11T09:26:59.688000Z",
     "shell.execute_reply.started": "2022-04-11T08:48:17.275406Z"
    },
    "papermill": {
     "duration": 9.978523,
     "end_time": "2022-04-11T09:26:59.689159",
     "exception": false,
     "start_time": "2022-04-11T09:26:49.710636",
     "status": "completed"
    },
    "tags": []
   },
   "outputs": [],
   "source": [
    "start_time = time.time()\n",
    "Y_train_pred7 = model7.predict(X_train)\n",
    "end_time = time.time()"
   ]
  },
  {
   "cell_type": "code",
   "execution_count": 107,
   "metadata": {
    "execution": {
     "iopub.execute_input": "2022-04-11T09:27:13.524417Z",
     "iopub.status.busy": "2022-04-11T09:27:13.523647Z",
     "iopub.status.idle": "2022-04-11T09:27:14.381184Z",
     "shell.execute_reply": "2022-04-11T09:27:14.380660Z",
     "shell.execute_reply.started": "2022-04-11T08:48:20.538123Z"
    },
    "papermill": {
     "duration": 7.415766,
     "end_time": "2022-04-11T09:27:14.381290",
     "exception": false,
     "start_time": "2022-04-11T09:27:06.965524",
     "status": "completed"
    },
    "tags": []
   },
   "outputs": [
    {
     "data": {
      "text/plain": [
       "0.998927473005553"
      ]
     },
     "execution_count": 107,
     "metadata": {},
     "output_type": "execute_result"
    }
   ],
   "source": [
    "accuracy_score(Y_train,Y_train_pred7)"
   ]
  },
  {
   "cell_type": "code",
   "execution_count": 108,
   "metadata": {
    "execution": {
     "iopub.execute_input": "2022-04-11T09:27:27.782037Z",
     "iopub.status.busy": "2022-04-11T09:27:27.781249Z",
     "iopub.status.idle": "2022-04-11T09:27:27.942096Z",
     "shell.execute_reply": "2022-04-11T09:27:27.941154Z",
     "shell.execute_reply.started": "2022-04-11T08:48:21.184384Z"
    },
    "papermill": {
     "duration": 7.070249,
     "end_time": "2022-04-11T09:27:27.942207",
     "exception": false,
     "start_time": "2022-04-11T09:27:20.871958",
     "status": "completed"
    },
    "tags": []
   },
   "outputs": [
    {
     "data": {
      "text/plain": [
       "0.9985155833082864"
      ]
     },
     "execution_count": 108,
     "metadata": {},
     "output_type": "execute_result"
    }
   ],
   "source": [
    "accuracy_score(Y_test,Y_test_pred7)"
   ]
  },
  {
   "cell_type": "markdown",
   "metadata": {
    "papermill": {
     "duration": 7.299795,
     "end_time": "2022-04-11T09:27:41.667949",
     "exception": false,
     "start_time": "2022-04-11T09:27:34.368154",
     "status": "completed"
    },
    "tags": []
   },
   "source": [
    "TRAINING ACCURACY"
   ]
  },
  {
   "cell_type": "code",
   "execution_count": 109,
   "metadata": {
    "execution": {
     "iopub.execute_input": "2022-04-11T09:27:54.863548Z",
     "iopub.status.busy": "2022-04-11T09:27:54.862590Z",
     "iopub.status.idle": "2022-04-11T09:27:54.970068Z",
     "shell.execute_reply": "2022-04-11T09:27:54.970594Z",
     "shell.execute_reply.started": "2022-04-11T08:48:21.493529Z"
    },
    "papermill": {
     "duration": 6.504477,
     "end_time": "2022-04-11T09:27:54.970736",
     "exception": false,
     "start_time": "2022-04-11T09:27:48.466259",
     "status": "completed"
    },
    "tags": []
   },
   "outputs": [
    {
     "data": {
      "text/plain": [
       "<BarContainer object of 7 artists>"
      ]
     },
     "execution_count": 109,
     "metadata": {},
     "output_type": "execute_result"
    },
    {
     "data": {
      "image/png": "[encoded data removed]",
      "text/plain": [
       "<Figure size 1080x216 with 1 Axes>"
      ]
     },
     "metadata": {
      "needs_background": "light"
     },
     "output_type": "display_data"
    }
   ],
   "source": [
    "names = ['NB','DT','RF','SVM','LR','GB','ANN']\n",
    "values = [87.951,99.058,99.997,99.875,99.352,99.793,99.914]\n",
    "f = plt.figure(figsize=(15,3),num=10)\n",
    "plt.subplot(131)\n",
    "plt.ylim(80,102)\n",
    "plt.bar(names,values)"
   ]
  },
  {
   "cell_type": "code",
   "execution_count": 110,
   "metadata": {
    "execution": {
     "iopub.execute_input": "2022-04-11T09:28:08.442682Z",
     "iopub.status.busy": "2022-04-11T09:28:08.441685Z",
     "iopub.status.idle": "2022-04-11T09:28:08.573758Z",
     "shell.execute_reply": "2022-04-11T09:28:08.574887Z",
     "shell.execute_reply.started": "2022-04-11T08:48:21.605679Z"
    },
    "papermill": {
     "duration": 6.894802,
     "end_time": "2022-04-11T09:28:08.575197",
     "exception": false,
     "start_time": "2022-04-11T09:28:01.680395",
     "status": "completed"
    },
    "tags": []
   },
   "outputs": [],
   "source": [
    "f.savefig('training_accuracy_figure.png',bbox_inches='tight')"
   ]
  },
  {
   "cell_type": "markdown",
   "metadata": {
    "papermill": {
     "duration": 6.65421,
     "end_time": "2022-04-11T09:28:22.483959",
     "exception": false,
     "start_time": "2022-04-11T09:28:15.829749",
     "status": "completed"
    },
    "tags": []
   },
   "source": [
    "TESTING ACCURACY"
   ]
  },
  {
   "cell_type": "code",
   "execution_count": 111,
   "metadata": {
    "execution": {
     "iopub.execute_input": "2022-04-11T09:28:35.681429Z",
     "iopub.status.busy": "2022-04-11T09:28:35.680058Z",
     "iopub.status.idle": "2022-04-11T09:28:35.786023Z",
     "shell.execute_reply": "2022-04-11T09:28:35.786487Z",
     "shell.execute_reply.started": "2022-04-11T08:48:21.690226Z"
    },
    "papermill": {
     "duration": 6.864218,
     "end_time": "2022-04-11T09:28:35.786616",
     "exception": false,
     "start_time": "2022-04-11T09:28:28.922398",
     "status": "completed"
    },
    "tags": []
   },
   "outputs": [
    {
     "data": {
      "text/plain": [
       "<BarContainer object of 7 artists>"
      ]
     },
     "execution_count": 111,
     "metadata": {},
     "output_type": "execute_result"
    },
    {
     "data": {
      "image/png": "[encoded data removed]",
      "text/plain": [
       "<Figure size 1080x216 with 1 Axes>"
      ]
     },
     "metadata": {
      "needs_background": "light"
     },
     "output_type": "display_data"
    }
   ],
   "source": [
    "names = ['NB','DT','RF','SVM','LR','GB','ANN']\n",
    "values = [87.903,99.052,99.969,99.879,99.352,99.771,99.886]\n",
    "f = plt.figure(figsize=(15,3),num=10)\n",
    "plt.subplot(131)\n",
    "plt.ylim(80,102)\n",
    "plt.bar(names,values)"
   ]
  },
  {
   "cell_type": "code",
   "execution_count": 112,
   "metadata": {
    "execution": {
     "iopub.execute_input": "2022-04-11T09:28:49.585397Z",
     "iopub.status.busy": "2022-04-11T09:28:49.584816Z",
     "iopub.status.idle": "2022-04-11T09:28:49.656942Z",
     "shell.execute_reply": "2022-04-11T09:28:49.656070Z",
     "shell.execute_reply.started": "2022-04-11T08:48:21.803084Z"
    },
    "papermill": {
     "duration": 6.619665,
     "end_time": "2022-04-11T09:28:49.657053",
     "exception": false,
     "start_time": "2022-04-11T09:28:43.037388",
     "status": "completed"
    },
    "tags": []
   },
   "outputs": [],
   "source": [
    "f.savefig('test_accuracy_figure.png',bbox_inches='tight')"
   ]
  },
  {
   "cell_type": "markdown",
   "metadata": {
    "papermill": {
     "duration": 6.511157,
     "end_time": "2022-04-11T09:29:02.865143",
     "exception": false,
     "start_time": "2022-04-11T09:28:56.353986",
     "status": "completed"
    },
    "tags": []
   },
   "source": [
    "TRAINING TIME"
   ]
  },
  {
   "cell_type": "code",
   "execution_count": 113,
   "metadata": {
    "execution": {
     "iopub.execute_input": "2022-04-11T09:29:17.098452Z",
     "iopub.status.busy": "2022-04-11T09:29:17.097598Z",
     "iopub.status.idle": "2022-04-11T09:29:17.204557Z",
     "shell.execute_reply": "2022-04-11T09:29:17.203851Z",
     "shell.execute_reply.started": "2022-04-11T08:48:21.884159Z"
    },
    "papermill": {
     "duration": 7.583246,
     "end_time": "2022-04-11T09:29:17.204656",
     "exception": false,
     "start_time": "2022-04-11T09:29:09.621410",
     "status": "completed"
    },
    "tags": []
   },
   "outputs": [
    {
     "data": {
      "text/plain": [
       "<BarContainer object of 7 artists>"
      ]
     },
     "execution_count": 113,
     "metadata": {},
     "output_type": "execute_result"
    },
    {
     "data": {
      "image/png": "[encoded data removed]",
      "text/plain": [
       "<Figure size 1080x216 with 1 Axes>"
      ]
     },
     "metadata": {
      "needs_background": "light"
     },
     "output_type": "display_data"
    }
   ],
   "source": [
    "names = ['NB','DT','RF','SVM','LR','GB','ANN']\n",
    "values = [1.04721,1.50483,11.45332,126.96016,56.67286,446.69099,1211.54094]\n",
    "f = plt.figure(figsize=(15,3),num=10)\n",
    "plt.subplot(131)\n",
    "plt.bar(names,values)"
   ]
  },
  {
   "cell_type": "code",
   "execution_count": 114,
   "metadata": {
    "execution": {
     "iopub.execute_input": "2022-04-11T09:29:30.560163Z",
     "iopub.status.busy": "2022-04-11T09:29:30.559587Z",
     "iopub.status.idle": "2022-04-11T09:29:30.636068Z",
     "shell.execute_reply": "2022-04-11T09:29:30.635625Z",
     "shell.execute_reply.started": "2022-04-11T08:48:22.000680Z"
    },
    "papermill": {
     "duration": 6.906334,
     "end_time": "2022-04-11T09:29:30.636171",
     "exception": false,
     "start_time": "2022-04-11T09:29:23.729837",
     "status": "completed"
    },
    "tags": []
   },
   "outputs": [],
   "source": [
    "f.savefig('train_time_figure.png',bbox_inches='tight')"
   ]
  },
  {
   "cell_type": "markdown",
   "metadata": {
    "papermill": {
     "duration": 6.464353,
     "end_time": "2022-04-11T09:29:43.892582",
     "exception": false,
     "start_time": "2022-04-11T09:29:37.428229",
     "status": "completed"
    },
    "tags": []
   },
   "source": [
    "TESTING TIME"
   ]
  },
  {
   "cell_type": "code",
   "execution_count": 115,
   "metadata": {
    "execution": {
     "iopub.execute_input": "2022-04-11T09:29:57.946355Z",
     "iopub.status.busy": "2022-04-11T09:29:57.945234Z",
     "iopub.status.idle": "2022-04-11T09:29:58.054891Z",
     "shell.execute_reply": "2022-04-11T09:29:58.055305Z",
     "shell.execute_reply.started": "2022-04-11T08:48:22.086562Z"
    },
    "papermill": {
     "duration": 6.707358,
     "end_time": "2022-04-11T09:29:58.055449",
     "exception": false,
     "start_time": "2022-04-11T09:29:51.348091",
     "status": "completed"
    },
    "tags": []
   },
   "outputs": [
    {
     "data": {
      "text/plain": [
       "<BarContainer object of 7 artists>"
      ]
     },
     "execution_count": 115,
     "metadata": {},
     "output_type": "execute_result"
    },
    {
     "data": {
      "image/png": "[encoded data removed]",
      "text/plain": [
       "<Figure size 1080x216 with 1 Axes>"
      ]
     },
     "metadata": {
      "needs_background": "light"
     },
     "output_type": "display_data"
    }
   ],
   "source": [
    "names = ['NB','DT','RF','SVM','LR','GB','ANN']\n",
    "values = [0.79089,0.10471,0.60961,32.72654,0.02198,1.41416,1.72521]\n",
    "f = plt.figure(figsize=(15,3),num=10)\n",
    "plt.subplot(131)\n",
    "plt.bar(names,values)"
   ]
  },
  {
   "cell_type": "code",
   "execution_count": 116,
   "metadata": {
    "execution": {
     "iopub.execute_input": "2022-04-11T09:30:11.547183Z",
     "iopub.status.busy": "2022-04-11T09:30:11.546098Z",
     "iopub.status.idle": "2022-04-11T09:30:11.620744Z",
     "shell.execute_reply": "2022-04-11T09:30:11.620242Z",
     "shell.execute_reply.started": "2022-04-11T08:48:22.203620Z"
    },
    "papermill": {
     "duration": 6.860317,
     "end_time": "2022-04-11T09:30:11.620848",
     "exception": false,
     "start_time": "2022-04-11T09:30:04.760531",
     "status": "completed"
    },
    "tags": []
   },
   "outputs": [],
   "source": [
    "f.savefig('test_time_figure.png',bbox_inches='tight')"
   ]
  },
  {
   "cell_type": "code",
   "execution_count": null,
   "metadata": {
    "papermill": {
     "duration": 7.387998,
     "end_time": "2022-04-11T09:30:25.569214",
     "exception": false,
     "start_time": "2022-04-11T09:30:18.181216",
     "status": "completed"
    },
    "tags": []
   },
   "outputs": [],
   "source": []
  }
 ],
 "metadata": {
  "kernelspec": {
   "display_name": "Python 3 (ipykernel)",
   "language": "python",
   "name": "python3"
  },
  "language_info": {
   "codemirror_mode": {
    "name": "ipython",
    "version": 3
   },
   "file_extension": ".py",
   "mimetype": "text/x-python",
   "name": "python",
   "nbconvert_exporter": "python",
   "pygments_lexer": "ipython3",
   "version": "3.9.13"
  },
  "papermill": {
   "duration": 2121.958875,
   "end_time": "2022-04-11T09:30:32.504822",
   "environment_variables": {},
   "exception": null,
   "input_path": "__notebook__.ipynb",
   "output_path": "__notebook__.ipynb",
   "parameters": {},
   "start_time": "2022-04-11T08:55:10.545947",
   "version": "2.1.0"
  }
 },
 "nbformat": 4,
 "nbformat_minor": 4
}
